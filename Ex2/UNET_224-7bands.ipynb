{
 "cells": [
  {
   "cell_type": "code",
   "execution_count": 1,
   "metadata": {},
   "outputs": [
    {
     "name": "stderr",
     "output_type": "stream",
     "text": [
      "Using TensorFlow backend.\n",
      "C:\\Users\\asdan\\anaconda3\\envs\\geospatial\\lib\\site-packages\\tensorflow\\python\\framework\\dtypes.py:516: FutureWarning: Passing (type, 1) or '1type' as a synonym of type is deprecated; in a future version of numpy, it will be understood as (type, (1,)) / '(1,)type'.\n",
      "  _np_qint8 = np.dtype([(\"qint8\", np.int8, 1)])\n",
      "C:\\Users\\asdan\\anaconda3\\envs\\geospatial\\lib\\site-packages\\tensorflow\\python\\framework\\dtypes.py:517: FutureWarning: Passing (type, 1) or '1type' as a synonym of type is deprecated; in a future version of numpy, it will be understood as (type, (1,)) / '(1,)type'.\n",
      "  _np_quint8 = np.dtype([(\"quint8\", np.uint8, 1)])\n",
      "C:\\Users\\asdan\\anaconda3\\envs\\geospatial\\lib\\site-packages\\tensorflow\\python\\framework\\dtypes.py:518: FutureWarning: Passing (type, 1) or '1type' as a synonym of type is deprecated; in a future version of numpy, it will be understood as (type, (1,)) / '(1,)type'.\n",
      "  _np_qint16 = np.dtype([(\"qint16\", np.int16, 1)])\n",
      "C:\\Users\\asdan\\anaconda3\\envs\\geospatial\\lib\\site-packages\\tensorflow\\python\\framework\\dtypes.py:519: FutureWarning: Passing (type, 1) or '1type' as a synonym of type is deprecated; in a future version of numpy, it will be understood as (type, (1,)) / '(1,)type'.\n",
      "  _np_quint16 = np.dtype([(\"quint16\", np.uint16, 1)])\n",
      "C:\\Users\\asdan\\anaconda3\\envs\\geospatial\\lib\\site-packages\\tensorflow\\python\\framework\\dtypes.py:520: FutureWarning: Passing (type, 1) or '1type' as a synonym of type is deprecated; in a future version of numpy, it will be understood as (type, (1,)) / '(1,)type'.\n",
      "  _np_qint32 = np.dtype([(\"qint32\", np.int32, 1)])\n",
      "C:\\Users\\asdan\\anaconda3\\envs\\geospatial\\lib\\site-packages\\tensorflow\\python\\framework\\dtypes.py:525: FutureWarning: Passing (type, 1) or '1type' as a synonym of type is deprecated; in a future version of numpy, it will be understood as (type, (1,)) / '(1,)type'.\n",
      "  np_resource = np.dtype([(\"resource\", np.ubyte, 1)])\n",
      "C:\\Users\\asdan\\anaconda3\\envs\\geospatial\\lib\\site-packages\\tensorboard\\compat\\tensorflow_stub\\dtypes.py:541: FutureWarning: Passing (type, 1) or '1type' as a synonym of type is deprecated; in a future version of numpy, it will be understood as (type, (1,)) / '(1,)type'.\n",
      "  _np_qint8 = np.dtype([(\"qint8\", np.int8, 1)])\n",
      "C:\\Users\\asdan\\anaconda3\\envs\\geospatial\\lib\\site-packages\\tensorboard\\compat\\tensorflow_stub\\dtypes.py:542: FutureWarning: Passing (type, 1) or '1type' as a synonym of type is deprecated; in a future version of numpy, it will be understood as (type, (1,)) / '(1,)type'.\n",
      "  _np_quint8 = np.dtype([(\"quint8\", np.uint8, 1)])\n",
      "C:\\Users\\asdan\\anaconda3\\envs\\geospatial\\lib\\site-packages\\tensorboard\\compat\\tensorflow_stub\\dtypes.py:543: FutureWarning: Passing (type, 1) or '1type' as a synonym of type is deprecated; in a future version of numpy, it will be understood as (type, (1,)) / '(1,)type'.\n",
      "  _np_qint16 = np.dtype([(\"qint16\", np.int16, 1)])\n",
      "C:\\Users\\asdan\\anaconda3\\envs\\geospatial\\lib\\site-packages\\tensorboard\\compat\\tensorflow_stub\\dtypes.py:544: FutureWarning: Passing (type, 1) or '1type' as a synonym of type is deprecated; in a future version of numpy, it will be understood as (type, (1,)) / '(1,)type'.\n",
      "  _np_quint16 = np.dtype([(\"quint16\", np.uint16, 1)])\n",
      "C:\\Users\\asdan\\anaconda3\\envs\\geospatial\\lib\\site-packages\\tensorboard\\compat\\tensorflow_stub\\dtypes.py:545: FutureWarning: Passing (type, 1) or '1type' as a synonym of type is deprecated; in a future version of numpy, it will be understood as (type, (1,)) / '(1,)type'.\n",
      "  _np_qint32 = np.dtype([(\"qint32\", np.int32, 1)])\n",
      "C:\\Users\\asdan\\anaconda3\\envs\\geospatial\\lib\\site-packages\\tensorboard\\compat\\tensorflow_stub\\dtypes.py:550: FutureWarning: Passing (type, 1) or '1type' as a synonym of type is deprecated; in a future version of numpy, it will be understood as (type, (1,)) / '(1,)type'.\n",
      "  np_resource = np.dtype([(\"resource\", np.ubyte, 1)])\n"
     ]
    }
   ],
   "source": [
    "import os\n",
    "import sys\n",
    "import random\n",
    "import warnings\n",
    "\n",
    "import numpy as np\n",
    "import pandas as pd\n",
    "from keras.optimizers import Adam, SGD\n",
    "from keras.callbacks import ModelCheckpoint, EarlyStopping, ReduceLROnPlateau\n",
    "\n",
    "import matplotlib.pyplot as plt\n",
    "\n",
    "\n",
    "\n",
    "np.random.seed(1337) # for reproducibility\n",
    "\n",
    "from tensorflow import set_random_seed\n",
    "set_random_seed(1337)\n",
    "#from tqdm import tqdm\n",
    "from itertools import chain\n",
    "from skimage.io import imread, imshow, imread_collection, concatenate_images\n",
    "from skimage.transform import resize\n",
    "from skimage.morphology import label\n",
    "\n",
    "from keras.layers import UpSampling2D\n",
    "from keras.layers.normalization import BatchNormalization\n",
    "from keras.layers.core import SpatialDropout2D, Activation\n",
    "\n",
    "from keras.models import Model, load_model\n",
    "from keras.layers import Input\n",
    "from keras.layers.core import Dropout, Lambda\n",
    "from keras.layers.convolutional import Conv2D, Conv2DTranspose\n",
    "from keras.layers.pooling import MaxPooling2D\n",
    "from keras.layers.merge import concatenate\n",
    "from keras.callbacks import EarlyStopping, ModelCheckpoint\n",
    "from keras import backend as K\n",
    "\n",
    "import tensorflow as tf\n",
    "warnings.filterwarnings('ignore', category=UserWarning, module='skimage')"
   ]
  },
  {
   "cell_type": "code",
   "execution_count": 2,
   "metadata": {},
   "outputs": [],
   "source": [
    "# Set some parameters\n",
    "IMG_WIDTH = 224\n",
    "IMG_HEIGHT = 224\n",
    "\n",
    "# Number of image channels (for example 3 in case of RGB, or 1 for grayscale images)\n",
    "INPUT_CHANNELS = 5\n",
    "# Number of output masks (1 in case you predict only one type of objects)\n",
    "OUTPUT_MASK_CHANNELS = 1\n",
    "#seed = 42\n",
    "#random.seed = seed\n",
    "#np.random.seed = seed"
   ]
  },
  {
   "cell_type": "code",
   "execution_count": 3,
   "metadata": {},
   "outputs": [],
   "source": [
    "def dice_coef(y_true, y_pred):\n",
    "    y_true_f = K.flatten(y_true)\n",
    "    y_pred_f = K.flatten(y_pred)\n",
    "    intersection = K.sum(y_true_f * y_pred_f)\n",
    "    return (2.0 * intersection + 1.0) / (K.sum(y_true_f) + K.sum(y_pred_f) + 1.0)\n",
    "\n",
    "\n",
    "def jacard_coef(y_true, y_pred):\n",
    "    y_true_f = K.flatten(y_true)\n",
    "    y_pred_f = K.flatten(y_pred)\n",
    "    intersection = K.sum(y_true_f * y_pred_f)\n",
    "    return (intersection + 1.0) / (K.sum(y_true_f) + K.sum(y_pred_f) - intersection + 1.0)\n",
    "\n",
    "\n",
    "def jacard_coef_loss(y_true, y_pred):\n",
    "    return -jacard_coef(y_true, y_pred)\n",
    "\n",
    "\n",
    "def dice_coef_loss(y_true, y_pred):\n",
    "    return -dice_coef(y_true, y_pred)\n"
   ]
  },
  {
   "cell_type": "code",
   "execution_count": 4,
   "metadata": {},
   "outputs": [],
   "source": [
    "def double_conv_layer(x, size, dropout=0.0, batch_norm=True):\n",
    "    if K.image_data_format() == 'th':\n",
    "        axis = 1\n",
    "    else:\n",
    "        axis = 3\n",
    "    conv = Conv2D(size, (3, 3), padding='same')(x)\n",
    "    if batch_norm is True:\n",
    "        conv = BatchNormalization(axis=axis)(conv)\n",
    "    conv = Activation('relu')(conv)\n",
    "    conv = Conv2D(size, (3, 3), padding='same')(conv)\n",
    "    if batch_norm is True:\n",
    "        conv = BatchNormalization(axis=axis)(conv)\n",
    "    conv = Activation('relu')(conv)\n",
    "    if dropout > 0:\n",
    "        conv = SpatialDropout2D(dropout)(conv)\n",
    "    return conv\n",
    "\n"
   ]
  },
  {
   "cell_type": "code",
   "execution_count": 5,
   "metadata": {},
   "outputs": [],
   "source": [
    "def plot_history(history):\n",
    "    loss_list = [s for s in history.history.keys() if 'loss' in s and 'val' not in s]\n",
    "    val_loss_list = [s for s in history.history.keys() if 'loss' in s and 'val' in s]\n",
    "    acc_list = [s for s in history.history.keys() if 'acc' in s and 'val' not in s]\n",
    "    val_acc_list = [s for s in history.history.keys() if 'acc' in s and 'val' in s]\n",
    "    dice_list = [s for s in history.history.keys() if 'dice' in s and 'val' not in s]\n",
    "    val_dice_list = [s for s in history.history.keys() if 'dice' in s and 'val' in s]\n",
    "    \n",
    "    if len(loss_list) == 0:\n",
    "        print('Loss is missing in history')\n",
    "        return \n",
    "    \n",
    "    ## As loss always exists\n",
    "    epochs = range(1,len(history.history[loss_list[0]]) + 1)\n",
    "    \n",
    "    ## Loss\n",
    "    plt.figure(1)\n",
    "    for l in loss_list:\n",
    "        plt.plot(epochs, history.history[l], 'b', label='Training loss (' + str(str(format(history.history[l][-1],'.5f'))+')'))\n",
    "    for l in val_loss_list:\n",
    "        plt.plot(epochs, history.history[l], 'g', label='Validation loss (' + str(str(format(history.history[l][-1],'.5f'))+')'))\n",
    "    \n",
    "    plt.title('Loss')\n",
    "    plt.xlabel('Epochs')\n",
    "    plt.ylabel('Loss')\n",
    "    plt.legend()\n",
    "    \n",
    "    ## Dice Coefficient\n",
    "    plt.figure(2)\n",
    "    for l in dice_list:\n",
    "        plt.plot(epochs, history.history[l], 'b', label='Training Dice Coefficient (' + str(format(history.history[l][-1],'.5f'))+')')\n",
    "    for l in val_dice_list:    \n",
    "        plt.plot(epochs, history.history[l], 'g', label='Validation Dice Coefficient (' + str(format(history.history[l][-1],'.5f'))+')')\n",
    "\n",
    "    plt.title('Dice Coefficient')\n",
    "    plt.xlabel('Epochs')\n",
    "    plt.ylabel('Dice Coefficient')\n",
    "    plt.legend()\n",
    "    \n",
    "    ## Accuracy\n",
    "    plt.figure(3)\n",
    "    for l in acc_list:\n",
    "        plt.plot(epochs, history.history[l], 'b', label='Training accuracy (' + str(format(history.history[l][-1],'.5f'))+')')\n",
    "    for l in val_acc_list:    \n",
    "        plt.plot(epochs, history.history[l], 'g', label='Validation accuracy (' + str(format(history.history[l][-1],'.5f'))+')')\n",
    "\n",
    "    plt.title('Accuracy')\n",
    "    plt.xlabel('Epochs')\n",
    "    plt.ylabel('Accuracy')\n",
    "    plt.legend()\n",
    "    plt.show()"
   ]
  },
  {
   "cell_type": "code",
   "execution_count": 6,
   "metadata": {},
   "outputs": [],
   "source": [
    "def ZF_UNET_224(dropout_val=0.2, weights=None):\n",
    "    if K.image_data_format() == 'th':\n",
    "        inputs = Input((INPUT_CHANNELS, 224, 224))\n",
    "        axis = 1\n",
    "    else:\n",
    "        inputs = Input((224, 224, INPUT_CHANNELS))\n",
    "        axis = 3\n",
    "    filters = 32\n",
    "\n",
    "    conv_224 = double_conv_layer(inputs, filters)\n",
    "    pool_112 = MaxPooling2D(pool_size=(2, 2))(conv_224)\n",
    "\n",
    "    conv_112 = double_conv_layer(pool_112, 2*filters)\n",
    "    pool_56 = MaxPooling2D(pool_size=(2, 2))(conv_112)\n",
    "\n",
    "    conv_56 = double_conv_layer(pool_56, 4*filters)\n",
    "    pool_28 = MaxPooling2D(pool_size=(2, 2))(conv_56)\n",
    "\n",
    "    conv_28 = double_conv_layer(pool_28, 8*filters)\n",
    "    pool_14 = MaxPooling2D(pool_size=(2, 2))(conv_28)\n",
    "\n",
    "    conv_14 = double_conv_layer(pool_14, 16*filters)\n",
    "    pool_7 = MaxPooling2D(pool_size=(2, 2))(conv_14)\n",
    "\n",
    "    conv_7 = double_conv_layer(pool_7, 32*filters)\n",
    "\n",
    "    up_14 = concatenate([UpSampling2D(size=(2, 2))(conv_7), conv_14], axis=axis)\n",
    "    up_conv_14 = double_conv_layer(up_14, 16*filters)\n",
    "\n",
    "    up_28 = concatenate([UpSampling2D(size=(2, 2))(up_conv_14), conv_28], axis=axis)\n",
    "    up_conv_28 = double_conv_layer(up_28, 8*filters)\n",
    "\n",
    "    up_56 = concatenate([UpSampling2D(size=(2, 2))(up_conv_28), conv_56], axis=axis)\n",
    "    up_conv_56 = double_conv_layer(up_56, 4*filters)\n",
    "\n",
    "    up_112 = concatenate([UpSampling2D(size=(2, 2))(up_conv_56), conv_112], axis=axis)\n",
    "    up_conv_112 = double_conv_layer(up_112, 2*filters)\n",
    "\n",
    "    up_224 = concatenate([UpSampling2D(size=(2, 2))(up_conv_112), conv_224], axis=axis)\n",
    "    up_conv_224 = double_conv_layer(up_224, filters, dropout_val)\n",
    "\n",
    "    conv_final = Conv2D(OUTPUT_MASK_CHANNELS, (1, 1))(up_conv_224)\n",
    "    conv_final = Activation('sigmoid')(conv_final)\n",
    "\n",
    "    model = Model(inputs, conv_final, name=\"ZF_UNET_224\")\n",
    "\n",
    "    #if weights == 'generator' and axis == 3 and INPUT_CHANNELS == 3 and OUTPUT_MASK_CHANNELS == 1:\n",
    "    ##    weights_path = get_file(\n",
    "     #       'zf_unet_224_weights_tf_dim_ordering_tf_generator.h5',\n",
    "     #       ZF_UNET_224_WEIGHT_PATH,\n",
    "     #       cache_subdir='models',\n",
    "     #       file_hash='203146f209baf34ac0d793e1691f1ab7')\n",
    "     #   model.load_weights(weights_path)\n",
    "\n",
    "    return model"
   ]
  },
  {
   "cell_type": "code",
   "execution_count": 12,
   "metadata": {},
   "outputs": [],
   "source": [
    "#X_validation = np.load(\"X_validation_ALL_RT224cti.npy\")\n",
    "#Y_validation = np.load(\"Y_validation_ALL_RT224cti.npy\")\n",
    "X_test = np.load(\"X_test224cti.npy\")\n",
    "Y_test = np.load(\"Y_test224.npy\")\n",
    "#X_validation = X_validation.astype('uint8')\n",
    "#Y_validation = Y_validation.astype('uint8')\n",
    "#X_test = X_test.astype('uint8')\n",
    "#Y_test = Y_test.astype('uint8')"
   ]
  },
  {
   "cell_type": "code",
   "execution_count": 8,
   "metadata": {},
   "outputs": [],
   "source": [
    "#X_validation = X_validation/255.0\n",
    "#Y_validation = Y_validation/255.0\n",
    "#X_test = X_test/255.0\n",
    "#Y_test = Y_test/255.0"
   ]
  },
  {
   "cell_type": "markdown",
   "metadata": {},
   "source": [
    "# All data "
   ]
  },
  {
   "cell_type": "code",
   "execution_count": 7,
   "metadata": {},
   "outputs": [],
   "source": [
    "X_train = np.load(\"13X_train224.npy\")\n",
    "Y_train = np.load(\"13Y_train224.npy\")\n",
    "X_train = X_train.astype('uint8')\n",
    "Y_train = Y_train.astype('uint8')"
   ]
  },
  {
   "cell_type": "code",
   "execution_count": 8,
   "metadata": {
    "scrolled": true
   },
   "outputs": [
    {
     "name": "stdout",
     "output_type": "stream",
     "text": [
      "WARNING:tensorflow:From C:\\Users\\asdan\\anaconda3\\envs\\geospatial\\lib\\site-packages\\keras\\backend\\tensorflow_backend.py:4070: The name tf.nn.max_pool is deprecated. Please use tf.nn.max_pool2d instead.\n",
      "\n"
     ]
    },
    {
     "name": "stderr",
     "output_type": "stream",
     "text": [
      "C:\\Users\\asdan\\anaconda3\\envs\\geospatial\\lib\\site-packages\\keras\\callbacks\\callbacks.py:998: UserWarning: `epsilon` argument is deprecated and will be removed, use `min_delta` instead.\n",
      "  warnings.warn('`epsilon` argument is deprecated and '\n"
     ]
    },
    {
     "name": "stdout",
     "output_type": "stream",
     "text": [
      "WARNING:tensorflow:From C:\\Users\\asdan\\anaconda3\\envs\\geospatial\\lib\\site-packages\\keras\\backend\\tensorflow_backend.py:422: The name tf.global_variables is deprecated. Please use tf.compat.v1.global_variables instead.\n",
      "\n",
      "Train on 105 samples, validate on 27 samples\n",
      "Epoch 1/50\n",
      "105/105 [==============================] - 291s 3s/step - loss: -0.0212 - dice_coef: 0.0217 - accuracy: 0.2920 - val_loss: -0.0063 - val_dice_coef: 0.0066 - val_accuracy: 0.3972\n",
      "Epoch 2/50\n",
      "105/105 [==============================] - 167s 2s/step - loss: -0.0289 - dice_coef: 0.0279 - accuracy: 0.4732 - val_loss: -0.0066 - val_dice_coef: 0.0070 - val_accuracy: 0.4044\n",
      "Epoch 3/50\n",
      "105/105 [==============================] - 164s 2s/step - loss: -0.0324 - dice_coef: 0.0331 - accuracy: 0.6103 - val_loss: -0.0069 - val_dice_coef: 0.0073 - val_accuracy: 0.3766\n",
      "Epoch 4/50\n",
      "105/105 [==============================] - 164s 2s/step - loss: -0.0355 - dice_coef: 0.0352 - accuracy: 0.7106 - val_loss: -0.0073 - val_dice_coef: 0.0077 - val_accuracy: 0.3937\n",
      "Epoch 5/50\n",
      "105/105 [==============================] - 166s 2s/step - loss: -0.0405 - dice_coef: 0.0402 - accuracy: 0.7887 - val_loss: -0.0076 - val_dice_coef: 0.0080 - val_accuracy: 0.3598\n",
      "Epoch 6/50\n",
      "105/105 [==============================] - 177s 2s/step - loss: -0.0438 - dice_coef: 0.0445 - accuracy: 0.8362 - val_loss: -0.0076 - val_dice_coef: 0.0080 - val_accuracy: 0.3743\n",
      "Epoch 7/50\n",
      "105/105 [==============================] - 176s 2s/step - loss: -0.0474 - dice_coef: 0.0496 - accuracy: 0.8626 - val_loss: -0.0078 - val_dice_coef: 0.0082 - val_accuracy: 0.3797\n",
      "Epoch 8/50\n",
      "105/105 [==============================] - 165s 2s/step - loss: -0.0503 - dice_coef: 0.0521 - accuracy: 0.8953 - val_loss: -0.0077 - val_dice_coef: 0.0081 - val_accuracy: 0.4784\n",
      "Epoch 9/50\n",
      "105/105 [==============================] - 166s 2s/step - loss: -0.0547 - dice_coef: 0.0545 - accuracy: 0.9052 - val_loss: -0.0080 - val_dice_coef: 0.0084 - val_accuracy: 0.5487\n",
      "Epoch 10/50\n",
      "105/105 [==============================] - 167s 2s/step - loss: -0.0562 - dice_coef: 0.0560 - accuracy: 0.9322 - val_loss: -0.0080 - val_dice_coef: 0.0084 - val_accuracy: 0.8323\n",
      "Epoch 11/50\n",
      "105/105 [==============================] - 165s 2s/step - loss: -0.0590 - dice_coef: 0.0570 - accuracy: 0.9257 - val_loss: -0.0085 - val_dice_coef: 0.0089 - val_accuracy: 0.8896\n",
      "Epoch 12/50\n",
      "105/105 [==============================] - 167s 2s/step - loss: -0.0613 - dice_coef: 0.0646 - accuracy: 0.9476 - val_loss: -0.0088 - val_dice_coef: 0.0092 - val_accuracy: 0.9290\n",
      "Epoch 13/50\n",
      "105/105 [==============================] - 166s 2s/step - loss: -0.0623 - dice_coef: 0.0607 - accuracy: 0.9431 - val_loss: -0.0091 - val_dice_coef: 0.0094 - val_accuracy: 0.9566\n",
      "Epoch 14/50\n",
      "105/105 [==============================] - 166s 2s/step - loss: -0.0643 - dice_coef: 0.0634 - accuracy: 0.9528 - val_loss: -0.0088 - val_dice_coef: 0.0091 - val_accuracy: 0.9699\n",
      "Epoch 15/50\n",
      "105/105 [==============================] - 167s 2s/step - loss: -0.0669 - dice_coef: 0.0682 - accuracy: 0.9548 - val_loss: -0.0089 - val_dice_coef: 0.0092 - val_accuracy: 0.9769\n",
      "Epoch 16/50\n",
      "105/105 [==============================] - 165s 2s/step - loss: -0.0647 - dice_coef: 0.0671 - accuracy: 0.9569 - val_loss: -0.0106 - val_dice_coef: 0.0108 - val_accuracy: 0.9784\n",
      "Epoch 17/50\n",
      "105/105 [==============================] - 166s 2s/step - loss: -0.0726 - dice_coef: 0.0715 - accuracy: 0.9604 - val_loss: -0.0115 - val_dice_coef: 0.0118 - val_accuracy: 0.9841\n",
      "Epoch 18/50\n",
      "105/105 [==============================] - 166s 2s/step - loss: -0.0688 - dice_coef: 0.0697 - accuracy: 0.9562 - val_loss: -0.0112 - val_dice_coef: 0.0112 - val_accuracy: 0.9882\n",
      "Epoch 19/50\n",
      "105/105 [==============================] - 164s 2s/step - loss: -0.0686 - dice_coef: 0.0698 - accuracy: 0.9570 - val_loss: -0.0107 - val_dice_coef: 0.0109 - val_accuracy: 0.9953\n",
      "Epoch 20/50\n",
      "105/105 [==============================] - 167s 2s/step - loss: -0.0690 - dice_coef: 0.0690 - accuracy: 0.9621 - val_loss: -0.0094 - val_dice_coef: 0.0098 - val_accuracy: 0.9969\n",
      "Epoch 21/50\n",
      "105/105 [==============================] - 165s 2s/step - loss: -0.0756 - dice_coef: 0.0785 - accuracy: 0.9637 - val_loss: -0.0119 - val_dice_coef: 0.0121 - val_accuracy: 0.9957\n",
      "Epoch 22/50\n",
      "105/105 [==============================] - 164s 2s/step - loss: -0.0752 - dice_coef: 0.0735 - accuracy: 0.9726 - val_loss: -0.0149 - val_dice_coef: 0.0154 - val_accuracy: 0.9909\n",
      "Epoch 23/50\n",
      "105/105 [==============================] - 166s 2s/step - loss: -0.0775 - dice_coef: 0.0761 - accuracy: 0.9736 - val_loss: -0.0151 - val_dice_coef: 0.0156 - val_accuracy: 0.9883\n",
      "Epoch 24/50\n",
      "105/105 [==============================] - 165s 2s/step - loss: -0.0807 - dice_coef: 0.0791 - accuracy: 0.9799 - val_loss: -0.0144 - val_dice_coef: 0.0152 - val_accuracy: 0.9951\n",
      "Epoch 25/50\n",
      "105/105 [==============================] - 166s 2s/step - loss: -0.0811 - dice_coef: 0.0793 - accuracy: 0.9809 - val_loss: -0.0155 - val_dice_coef: 0.0164 - val_accuracy: 0.9956\n",
      "Epoch 26/50\n",
      "105/105 [==============================] - 164s 2s/step - loss: -0.0837 - dice_coef: 0.0831 - accuracy: 0.9774 - val_loss: -0.0174 - val_dice_coef: 0.0179 - val_accuracy: 0.9923\n",
      "Epoch 27/50\n",
      "105/105 [==============================] - 164s 2s/step - loss: -0.0737 - dice_coef: 0.0754 - accuracy: 0.9607 - val_loss: -0.0179 - val_dice_coef: 0.0187 - val_accuracy: 0.9745\n",
      "Epoch 28/50\n",
      "105/105 [==============================] - 166s 2s/step - loss: -0.0790 - dice_coef: 0.0767 - accuracy: 0.9700 - val_loss: -0.0198 - val_dice_coef: 0.0210 - val_accuracy: 0.9896\n",
      "Epoch 29/50\n",
      "105/105 [==============================] - 165s 2s/step - loss: -0.0845 - dice_coef: 0.0832 - accuracy: 0.9774 - val_loss: -0.0189 - val_dice_coef: 0.0204 - val_accuracy: 0.9946\n",
      "Epoch 30/50\n",
      "105/105 [==============================] - 165s 2s/step - loss: -0.0850 - dice_coef: 0.0842 - accuracy: 0.9814 - val_loss: -0.0186 - val_dice_coef: 0.0197 - val_accuracy: 0.9958\n",
      "Epoch 31/50\n",
      "105/105 [==============================] - 167s 2s/step - loss: -0.0866 - dice_coef: 0.0848 - accuracy: 0.9832 - val_loss: -0.0180 - val_dice_coef: 0.0190 - val_accuracy: 0.9962\n",
      "Epoch 32/50\n",
      "105/105 [==============================] - 164s 2s/step - loss: -0.0885 - dice_coef: 0.0916 - accuracy: 0.9849 - val_loss: -0.0194 - val_dice_coef: 0.0201 - val_accuracy: 0.9944\n",
      "Epoch 33/50\n",
      "105/105 [==============================] - 167s 2s/step - loss: -0.0899 - dice_coef: 0.0880 - accuracy: 0.9856 - val_loss: -0.0192 - val_dice_coef: 0.0201 - val_accuracy: 0.9952\n",
      "\n",
      "Epoch 00033: ReduceLROnPlateau reducing learning rate to 4.999999873689376e-05.\n",
      "Epoch 34/50\n",
      "105/105 [==============================] - 165s 2s/step - loss: -0.0889 - dice_coef: 0.0892 - accuracy: 0.9845 - val_loss: -0.0212 - val_dice_coef: 0.0220 - val_accuracy: 0.9922\n",
      "Epoch 35/50\n",
      "105/105 [==============================] - 166s 2s/step - loss: -0.0867 - dice_coef: 0.0873 - accuracy: 0.9829 - val_loss: -0.0224 - val_dice_coef: 0.0232 - val_accuracy: 0.9942\n",
      "Epoch 36/50\n",
      "105/105 [==============================] - 167s 2s/step - loss: -0.0949 - dice_coef: 0.0921 - accuracy: 0.9863 - val_loss: -0.0234 - val_dice_coef: 0.0246 - val_accuracy: 0.9962\n",
      "Epoch 37/50\n",
      "105/105 [==============================] - 164s 2s/step - loss: -0.0917 - dice_coef: 0.0881 - accuracy: 0.9884 - val_loss: -0.0252 - val_dice_coef: 0.0267 - val_accuracy: 0.9970\n",
      "Epoch 38/50\n",
      "105/105 [==============================] - 167s 2s/step - loss: -0.0943 - dice_coef: 0.0961 - accuracy: 0.9880 - val_loss: -0.0253 - val_dice_coef: 0.0270 - val_accuracy: 0.9972\n",
      "Epoch 39/50\n",
      "105/105 [==============================] - 166s 2s/step - loss: -0.0934 - dice_coef: 0.0898 - accuracy: 0.9879 - val_loss: -0.0271 - val_dice_coef: 0.0291 - val_accuracy: 0.9967\n",
      "Epoch 40/50\n",
      "105/105 [==============================] - 167s 2s/step - loss: -0.0900 - dice_coef: 0.0966 - accuracy: 0.9879 - val_loss: -0.0281 - val_dice_coef: 0.0299 - val_accuracy: 0.9968\n",
      "Epoch 41/50\n",
      "105/105 [==============================] - 165s 2s/step - loss: -0.0935 - dice_coef: 0.0952 - accuracy: 0.9890 - val_loss: -0.0288 - val_dice_coef: 0.0306 - val_accuracy: 0.9972\n",
      "Epoch 42/50\n"
     ]
    },
    {
     "name": "stdout",
     "output_type": "stream",
     "text": [
      "105/105 [==============================] - 165s 2s/step - loss: -0.0987 - dice_coef: 0.0981 - accuracy: 0.9900 - val_loss: -0.0281 - val_dice_coef: 0.0302 - val_accuracy: 0.9974\n",
      "Epoch 43/50\n",
      "105/105 [==============================] - 166s 2s/step - loss: -0.0947 - dice_coef: 0.0975 - accuracy: 0.9902 - val_loss: -0.0296 - val_dice_coef: 0.0319 - val_accuracy: 0.9975\n",
      "Epoch 44/50\n",
      "105/105 [==============================] - 165s 2s/step - loss: -0.0968 - dice_coef: 0.0987 - accuracy: 0.9871 - val_loss: -0.0309 - val_dice_coef: 0.0330 - val_accuracy: 0.9962\n",
      "Epoch 45/50\n",
      "105/105 [==============================] - 164s 2s/step - loss: -0.0985 - dice_coef: 0.0963 - accuracy: 0.9893 - val_loss: -0.0300 - val_dice_coef: 0.0319 - val_accuracy: 0.9969\n",
      "Epoch 46/50\n",
      "105/105 [==============================] - 167s 2s/step - loss: -0.1000 - dice_coef: 0.0973 - accuracy: 0.9901 - val_loss: -0.0319 - val_dice_coef: 0.0340 - val_accuracy: 0.9966\n",
      "Epoch 47/50\n",
      "105/105 [==============================] - 165s 2s/step - loss: -0.0979 - dice_coef: 0.0920 - accuracy: 0.9886 - val_loss: -0.0330 - val_dice_coef: 0.0353 - val_accuracy: 0.9968\n",
      "Epoch 48/50\n",
      "105/105 [==============================] - 165s 2s/step - loss: -0.0967 - dice_coef: 0.0938 - accuracy: 0.9907 - val_loss: -0.0348 - val_dice_coef: 0.0375 - val_accuracy: 0.9963\n",
      "Epoch 49/50\n",
      "105/105 [==============================] - 168s 2s/step - loss: -0.0991 - dice_coef: 0.0963 - accuracy: 0.9904 - val_loss: -0.0350 - val_dice_coef: 0.0375 - val_accuracy: 0.9963\n",
      "Epoch 50/50\n",
      "105/105 [==============================] - 164s 2s/step - loss: -0.0965 - dice_coef: 0.1012 - accuracy: 0.9904 - val_loss: -0.0339 - val_dice_coef: 0.0363 - val_accuracy: 0.9968\n"
     ]
    }
   ],
   "source": [
    "model = ZF_UNET_224()\n",
    "learning_rate =0.0001\n",
    "patience = 20\n",
    "model.compile(optimizer=Adam(lr=learning_rate),loss = dice_coef_loss,metrics=[dice_coef,'accuracy'])\n",
    "callbacks = [\n",
    "        ReduceLROnPlateau(monitor='val_loss', factor=0.5, patience=5, min_lr=1e-9, epsilon=0.00001, verbose=1, mode='min'),\n",
    "        EarlyStopping(monitor='val_loss', patience=patience, verbose=0),\n",
    "        ModelCheckpoint('unetLr03.h5', monitor='val_loss', save_best_only=True, verbose=0),\n",
    "    ]\n",
    "# Fit model\n",
    "results_03 = model.fit(X_train, Y_train, validation_split=0.2, batch_size=16, epochs=50,\n",
    "                    callbacks=callbacks)"
   ]
  },
  {
   "cell_type": "code",
   "execution_count": 37,
   "metadata": {},
   "outputs": [
    {
     "data": {
      "image/png": "[encoded data removed]",
      "text/plain": [
       "<Figure size 432x288 with 1 Axes>"
      ]
     },
     "metadata": {
      "needs_background": "light"
     },
     "output_type": "display_data"
    },
    {
     "data": {
      "image/png": "[encoded data removed]",
      "text/plain": [
       "<Figure size 432x288 with 1 Axes>"
      ]
     },
     "metadata": {
      "needs_background": "light"
     },
     "output_type": "display_data"
    },
    {
     "data": {
      "image/png": "[encoded data removed]",
      "text/plain": [
       "<Figure size 432x288 with 1 Axes>"
      ]
     },
     "metadata": {
      "needs_background": "light"
     },
     "output_type": "display_data"
    }
   ],
   "source": [
    "plot_history(results_03)"
   ]
  },
  {
   "cell_type": "code",
   "execution_count": 97,
   "metadata": {},
   "outputs": [],
   "source": [
    "np.save(\"SL_results_143.npy\",results_03.history)"
   ]
  },
  {
   "cell_type": "code",
   "execution_count": 102,
   "metadata": {},
   "outputs": [],
   "source": [
    "model.save('attempt3preseparation.h5')\n",
    "model.save_weights(\"weights.h5\")"
   ]
  },
  {
   "cell_type": "code",
   "execution_count": 105,
   "metadata": {},
   "outputs": [
    {
     "ename": "ValueError",
     "evalue": "Cannot create group in read-only mode.",
     "output_type": "error",
     "traceback": [
      "\u001b[1;31m---------------------------------------------------------------------------\u001b[0m",
      "\u001b[1;31mValueError\u001b[0m                                Traceback (most recent call last)",
      "\u001b[1;32m<ipython-input-105-69b608c09f32>\u001b[0m in \u001b[0;36m<module>\u001b[1;34m\u001b[0m\n\u001b[1;32m----> 1\u001b[1;33m \u001b[0mttmodel\u001b[0m\u001b[1;33m=\u001b[0m \u001b[0mload_model\u001b[0m\u001b[1;33m(\u001b[0m\u001b[1;34m'weights.h5'\u001b[0m\u001b[1;33m,\u001b[0m\u001b[0mcompile\u001b[0m\u001b[1;33m=\u001b[0m\u001b[1;32mFalse\u001b[0m\u001b[1;33m)\u001b[0m\u001b[1;33m\u001b[0m\u001b[1;33m\u001b[0m\u001b[0m\n\u001b[0m",
      "\u001b[1;32m~\\anaconda3\\envs\\geospatial\\lib\\site-packages\\keras\\engine\\saving.py\u001b[0m in \u001b[0;36mload_wrapper\u001b[1;34m(*args, **kwargs)\u001b[0m\n\u001b[0;32m    490\u001b[0m                 \u001b[0mos\u001b[0m\u001b[1;33m.\u001b[0m\u001b[0mremove\u001b[0m\u001b[1;33m(\u001b[0m\u001b[0mtmp_filepath\u001b[0m\u001b[1;33m)\u001b[0m\u001b[1;33m\u001b[0m\u001b[1;33m\u001b[0m\u001b[0m\n\u001b[0;32m    491\u001b[0m             \u001b[1;32mreturn\u001b[0m \u001b[0mres\u001b[0m\u001b[1;33m\u001b[0m\u001b[1;33m\u001b[0m\u001b[0m\n\u001b[1;32m--> 492\u001b[1;33m         \u001b[1;32mreturn\u001b[0m \u001b[0mload_function\u001b[0m\u001b[1;33m(\u001b[0m\u001b[1;33m*\u001b[0m\u001b[0margs\u001b[0m\u001b[1;33m,\u001b[0m \u001b[1;33m**\u001b[0m\u001b[0mkwargs\u001b[0m\u001b[1;33m)\u001b[0m\u001b[1;33m\u001b[0m\u001b[1;33m\u001b[0m\u001b[0m\n\u001b[0m\u001b[0;32m    493\u001b[0m \u001b[1;33m\u001b[0m\u001b[0m\n\u001b[0;32m    494\u001b[0m     \u001b[1;32mreturn\u001b[0m \u001b[0mload_wrapper\u001b[0m\u001b[1;33m\u001b[0m\u001b[1;33m\u001b[0m\u001b[0m\n",
      "\u001b[1;32m~\\anaconda3\\envs\\geospatial\\lib\\site-packages\\keras\\engine\\saving.py\u001b[0m in \u001b[0;36mload_model\u001b[1;34m(filepath, custom_objects, compile)\u001b[0m\n\u001b[0;32m    582\u001b[0m     \u001b[1;32mif\u001b[0m \u001b[0mH5Dict\u001b[0m\u001b[1;33m.\u001b[0m\u001b[0mis_supported_type\u001b[0m\u001b[1;33m(\u001b[0m\u001b[0mfilepath\u001b[0m\u001b[1;33m)\u001b[0m\u001b[1;33m:\u001b[0m\u001b[1;33m\u001b[0m\u001b[1;33m\u001b[0m\u001b[0m\n\u001b[0;32m    583\u001b[0m         \u001b[1;32mwith\u001b[0m \u001b[0mH5Dict\u001b[0m\u001b[1;33m(\u001b[0m\u001b[0mfilepath\u001b[0m\u001b[1;33m,\u001b[0m \u001b[0mmode\u001b[0m\u001b[1;33m=\u001b[0m\u001b[1;34m'r'\u001b[0m\u001b[1;33m)\u001b[0m \u001b[1;32mas\u001b[0m \u001b[0mh5dict\u001b[0m\u001b[1;33m:\u001b[0m\u001b[1;33m\u001b[0m\u001b[1;33m\u001b[0m\u001b[0m\n\u001b[1;32m--> 584\u001b[1;33m             \u001b[0mmodel\u001b[0m \u001b[1;33m=\u001b[0m \u001b[0m_deserialize_model\u001b[0m\u001b[1;33m(\u001b[0m\u001b[0mh5dict\u001b[0m\u001b[1;33m,\u001b[0m \u001b[0mcustom_objects\u001b[0m\u001b[1;33m,\u001b[0m \u001b[0mcompile\u001b[0m\u001b[1;33m)\u001b[0m\u001b[1;33m\u001b[0m\u001b[1;33m\u001b[0m\u001b[0m\n\u001b[0m\u001b[0;32m    585\u001b[0m     \u001b[1;32melif\u001b[0m \u001b[0mhasattr\u001b[0m\u001b[1;33m(\u001b[0m\u001b[0mfilepath\u001b[0m\u001b[1;33m,\u001b[0m \u001b[1;34m'write'\u001b[0m\u001b[1;33m)\u001b[0m \u001b[1;32mand\u001b[0m \u001b[0mcallable\u001b[0m\u001b[1;33m(\u001b[0m\u001b[0mfilepath\u001b[0m\u001b[1;33m.\u001b[0m\u001b[0mwrite\u001b[0m\u001b[1;33m)\u001b[0m\u001b[1;33m:\u001b[0m\u001b[1;33m\u001b[0m\u001b[1;33m\u001b[0m\u001b[0m\n\u001b[0;32m    586\u001b[0m         \u001b[1;32mdef\u001b[0m \u001b[0mload_function\u001b[0m\u001b[1;33m(\u001b[0m\u001b[0mh5file\u001b[0m\u001b[1;33m)\u001b[0m\u001b[1;33m:\u001b[0m\u001b[1;33m\u001b[0m\u001b[1;33m\u001b[0m\u001b[0m\n",
      "\u001b[1;32m~\\anaconda3\\envs\\geospatial\\lib\\site-packages\\keras\\engine\\saving.py\u001b[0m in \u001b[0;36m_deserialize_model\u001b[1;34m(h5dict, custom_objects, compile)\u001b[0m\n\u001b[0;32m    268\u001b[0m         \u001b[1;32mreturn\u001b[0m \u001b[0mobj\u001b[0m\u001b[1;33m\u001b[0m\u001b[1;33m\u001b[0m\u001b[0m\n\u001b[0;32m    269\u001b[0m \u001b[1;33m\u001b[0m\u001b[0m\n\u001b[1;32m--> 270\u001b[1;33m     \u001b[0mmodel_config\u001b[0m \u001b[1;33m=\u001b[0m \u001b[0mh5dict\u001b[0m\u001b[1;33m[\u001b[0m\u001b[1;34m'model_config'\u001b[0m\u001b[1;33m]\u001b[0m\u001b[1;33m\u001b[0m\u001b[1;33m\u001b[0m\u001b[0m\n\u001b[0m\u001b[0;32m    271\u001b[0m     \u001b[1;32mif\u001b[0m \u001b[0mmodel_config\u001b[0m \u001b[1;32mis\u001b[0m \u001b[1;32mNone\u001b[0m\u001b[1;33m:\u001b[0m\u001b[1;33m\u001b[0m\u001b[1;33m\u001b[0m\u001b[0m\n\u001b[0;32m    272\u001b[0m         \u001b[1;32mraise\u001b[0m \u001b[0mValueError\u001b[0m\u001b[1;33m(\u001b[0m\u001b[1;34m'No model found in config.'\u001b[0m\u001b[1;33m)\u001b[0m\u001b[1;33m\u001b[0m\u001b[1;33m\u001b[0m\u001b[0m\n",
      "\u001b[1;32m~\\anaconda3\\envs\\geospatial\\lib\\site-packages\\keras\\utils\\io_utils.py\u001b[0m in \u001b[0;36m__getitem__\u001b[1;34m(self, attr)\u001b[0m\n\u001b[0;32m    316\u001b[0m             \u001b[1;32melse\u001b[0m\u001b[1;33m:\u001b[0m\u001b[1;33m\u001b[0m\u001b[1;33m\u001b[0m\u001b[0m\n\u001b[0;32m    317\u001b[0m                 \u001b[1;32mif\u001b[0m \u001b[0mself\u001b[0m\u001b[1;33m.\u001b[0m\u001b[0mread_only\u001b[0m\u001b[1;33m:\u001b[0m\u001b[1;33m\u001b[0m\u001b[1;33m\u001b[0m\u001b[0m\n\u001b[1;32m--> 318\u001b[1;33m                     \u001b[1;32mraise\u001b[0m \u001b[0mValueError\u001b[0m\u001b[1;33m(\u001b[0m\u001b[1;34m'Cannot create group in read-only mode.'\u001b[0m\u001b[1;33m)\u001b[0m\u001b[1;33m\u001b[0m\u001b[1;33m\u001b[0m\u001b[0m\n\u001b[0m\u001b[0;32m    319\u001b[0m                 \u001b[0mval\u001b[0m \u001b[1;33m=\u001b[0m \u001b[0mH5Dict\u001b[0m\u001b[1;33m(\u001b[0m\u001b[0mself\u001b[0m\u001b[1;33m.\u001b[0m\u001b[0mdata\u001b[0m\u001b[1;33m.\u001b[0m\u001b[0mcreate_group\u001b[0m\u001b[1;33m(\u001b[0m\u001b[0mattr\u001b[0m\u001b[1;33m)\u001b[0m\u001b[1;33m)\u001b[0m\u001b[1;33m\u001b[0m\u001b[1;33m\u001b[0m\u001b[0m\n\u001b[0;32m    320\u001b[0m         \u001b[1;32mreturn\u001b[0m \u001b[0mval\u001b[0m\u001b[1;33m\u001b[0m\u001b[1;33m\u001b[0m\u001b[0m\n",
      "\u001b[1;31mValueError\u001b[0m: Cannot create group in read-only mode."
     ]
    }
   ],
   "source": [
    "#why this error\n",
    "ttmodel= load_model('weights.h5',compile=False)"
   ]
  },
  {
   "cell_type": "code",
   "execution_count": 42,
   "metadata": {},
   "outputs": [],
   "source": [
    "X_test = np.load(\"2X_test224cti.npy\")\n",
    "Y_test = np.load(\"2Y_test224.npy\")\n",
    "X_test = X_test.astype('uint8')\n",
    "Y_test = Y_test.astype('uint8')"
   ]
  },
  {
   "cell_type": "code",
   "execution_count": 11,
   "metadata": {},
   "outputs": [
    {
     "data": {
      "text/plain": [
       "(360, 224, 224, 5)"
      ]
     },
     "execution_count": 11,
     "metadata": {},
     "output_type": "execute_result"
    }
   ],
   "source": [
    "X_test.shape"
   ]
  },
  {
   "cell_type": "code",
   "execution_count": 46,
   "metadata": {},
   "outputs": [
    {
     "name": "stdout",
     "output_type": "stream",
     "text": [
      "0: 0\n",
      "1: 0\n",
      "2: 0\n",
      "3: 0\n",
      "4: 0\n",
      "5: 1452\n",
      "6: 0\n",
      "7: 0\n",
      "8: 0\n",
      "9: 0\n",
      "10: 1392\n",
      "11: 0\n",
      "12: 0\n",
      "13: 0\n",
      "14: 0\n",
      "15: 0\n",
      "16: 1408\n",
      "17: 0\n",
      "18: 0\n",
      "19: 2421\n",
      "20: 1058\n",
      "21: 1243\n",
      "22: 0\n",
      "23: 0\n",
      "24: 0\n",
      "25: 0\n",
      "26: 0\n",
      "27: 0\n",
      "28: 0\n",
      "29: 0\n",
      "30: 0\n",
      "31: 0\n",
      "32: 0\n",
      "33: 1649\n",
      "34: 0\n",
      "35: 353\n",
      "36: 0\n",
      "37: 0\n",
      "38: 0\n",
      "39: 0\n",
      "40: 1360\n",
      "41: 0\n",
      "42: 0\n",
      "43: 0\n",
      "44: 0\n",
      "45: 0\n",
      "46: 0\n",
      "47: 0\n",
      "48: 0\n",
      "49: 0\n",
      "50: 0\n",
      "51: 0\n",
      "52: 0\n",
      "53: 0\n",
      "54: 0\n",
      "55: 0\n",
      "56: 0\n",
      "57: 0\n",
      "58: 0\n",
      "59: 0\n",
      "60: 1454\n",
      "61: 0\n",
      "62: 0\n",
      "63: 0\n",
      "64: 0\n",
      "65: 0\n",
      "66: 0\n",
      "67: 0\n",
      "68: 0\n",
      "69: 0\n",
      "70: 0\n",
      "71: 0\n",
      "72: 0\n",
      "73: 0\n",
      "74: 155\n",
      "75: 1086\n",
      "76: 0\n",
      "77: 0\n",
      "78: 0\n",
      "79: 0\n",
      "80: 1444\n",
      "81: 0\n",
      "82: 0\n",
      "83: 0\n",
      "84: 0\n",
      "85: 0\n",
      "86: 1675\n",
      "87: 0\n",
      "88: 0\n",
      "89: 1315\n",
      "90: 0\n",
      "91: 0\n",
      "92: 48\n",
      "93: 0\n",
      "94: 1571\n",
      "95: 1272\n",
      "96: 0\n",
      "97: 0\n",
      "98: 0\n",
      "99: 1164\n",
      "100: 0\n",
      "101: 0\n",
      "102: 585\n",
      "103: 0\n",
      "104: 0\n",
      "105: 0\n",
      "106: 265\n",
      "107: 0\n",
      "108: 0\n",
      "109: 0\n",
      "110: 0\n",
      "111: 0\n",
      "112: 0\n",
      "113: 0\n",
      "114: 0\n",
      "115: 0\n",
      "116: 1845\n",
      "117: 0\n",
      "118: 1497\n",
      "119: 1580\n",
      "120: 0\n",
      "121: 0\n",
      "122: 0\n",
      "123: 0\n",
      "124: 0\n",
      "125: 0\n",
      "126: 0\n",
      "127: 0\n",
      "128: 0\n",
      "129: 0\n",
      "130: 0\n",
      "131: 0\n",
      "132: 1722\n",
      "133: 0\n",
      "134: 797\n",
      "135: 1317\n",
      "136: 0\n",
      "137: 0\n",
      "138: 0\n",
      "139: 0\n",
      "140: 0\n",
      "141: 0\n",
      "142: 0\n",
      "143: 1442\n",
      "144: 0\n",
      "145: 0\n",
      "146: 0\n",
      "147: 0\n",
      "148: 0\n",
      "149: 0\n",
      "150: 0\n",
      "151: 0\n",
      "152: 0\n",
      "153: 0\n",
      "154: 0\n",
      "155: 0\n",
      "156: 0\n",
      "157: 0\n",
      "158: 0\n",
      "159: 0\n",
      "160: 114\n",
      "161: 0\n",
      "162: 0\n",
      "163: 1486\n",
      "164: 0\n",
      "165: 0\n",
      "166: 0\n",
      "167: 0\n",
      "168: 998\n",
      "169: 0\n",
      "170: 1377\n",
      "171: 0\n",
      "172: 0\n",
      "173: 0\n",
      "174: 0\n",
      "175: 0\n",
      "176: 0\n",
      "177: 0\n",
      "178: 0\n",
      "179: 0\n",
      "180: 0\n",
      "181: 0\n",
      "182: 0\n",
      "183: 0\n",
      "184: 0\n",
      "185: 0\n",
      "186: 0\n",
      "187: 0\n",
      "188: 0\n",
      "189: 0\n",
      "190: 0\n",
      "191: 0\n",
      "192: 0\n",
      "193: 0\n",
      "194: 0\n",
      "195: 0\n",
      "196: 0\n",
      "197: 0\n",
      "198: 0\n",
      "199: 901\n",
      "200: 0\n",
      "201: 0\n",
      "202: 0\n",
      "203: 0\n",
      "204: 0\n",
      "205: 1350\n",
      "206: 0\n",
      "207: 0\n",
      "208: 1398\n",
      "209: 1825\n",
      "210: 0\n",
      "211: 0\n",
      "212: 0\n",
      "213: 0\n",
      "214: 0\n",
      "215: 0\n",
      "216: 891\n",
      "217: 1430\n",
      "218: 536\n",
      "219: 0\n",
      "220: 0\n",
      "221: 0\n",
      "222: 0\n",
      "223: 0\n",
      "224: 0\n",
      "225: 0\n",
      "226: 0\n",
      "227: 0\n",
      "228: 367\n",
      "229: 0\n",
      "230: 99\n",
      "231: 0\n",
      "232: 0\n",
      "233: 0\n",
      "234: 0\n",
      "235: 0\n",
      "236: 0\n",
      "237: 0\n",
      "238: 0\n",
      "239: 142\n",
      "240: 0\n",
      "241: 123\n",
      "242: 0\n",
      "243: 0\n",
      "244: 0\n",
      "245: 0\n",
      "246: 0\n",
      "247: 0\n",
      "248: 0\n",
      "249: 0\n",
      "250: 0\n",
      "251: 0\n",
      "252: 1391\n",
      "253: 0\n",
      "254: 0\n",
      "255: 0\n",
      "256: 2236\n",
      "257: 0\n",
      "258: 1607\n",
      "259: 1464\n",
      "260: 0\n",
      "261: 0\n",
      "262: 0\n",
      "263: 1561\n",
      "264: 0\n",
      "265: 0\n",
      "266: 0\n",
      "267: 0\n",
      "268: 1349\n",
      "269: 0\n",
      "270: 0\n",
      "271: 0\n",
      "272: 0\n",
      "273: 0\n",
      "274: 0\n",
      "275: 0\n",
      "276: 0\n",
      "277: 0\n",
      "278: 1361\n",
      "279: 0\n",
      "280: 0\n",
      "281: 0\n",
      "282: 0\n",
      "283: 0\n",
      "284: 0\n",
      "285: 0\n",
      "286: 0\n",
      "287: 0\n",
      "288: 0\n",
      "289: 0\n",
      "290: 0\n",
      "291: 1157\n",
      "292: 0\n",
      "293: 0\n",
      "294: 0\n",
      "295: 2344\n",
      "296: 0\n",
      "297: 0\n",
      "298: 0\n",
      "299: 0\n",
      "300: 0\n",
      "301: 0\n",
      "302: 0\n",
      "303: 0\n",
      "304: 0\n",
      "305: 0\n",
      "306: 0\n",
      "307: 0\n",
      "308: 0\n",
      "309: 308\n",
      "310: 0\n",
      "311: 0\n",
      "312: 0\n",
      "313: 0\n",
      "314: 0\n",
      "315: 2035\n",
      "316: 681\n",
      "317: 0\n",
      "318: 0\n",
      "319: 0\n",
      "320: 0\n",
      "321: 0\n",
      "322: 0\n",
      "323: 0\n",
      "324: 0\n",
      "325: 0\n",
      "326: 1431\n",
      "327: 0\n",
      "328: 1927\n",
      "329: 844\n",
      "330: 0\n",
      "331: 0\n",
      "332: 0\n",
      "333: 825\n",
      "334: 0\n",
      "335: 0\n",
      "336: 0\n",
      "337: 0\n",
      "338: 0\n",
      "339: 0\n",
      "340: 0\n",
      "341: 0\n",
      "342: 0\n",
      "343: 0\n",
      "344: 0\n",
      "345: 0\n",
      "346: 0\n",
      "347: 0\n",
      "348: 0\n",
      "349: 0\n",
      "350: 0\n",
      "351: 0\n",
      "352: 0\n",
      "353: 0\n",
      "354: 0\n",
      "355: 0\n",
      "356: 1812\n",
      "357: 0\n",
      "358: 0\n",
      "359: 0\n"
     ]
    }
   ],
   "source": [
    "for i in range(0,Y_test.shape[0]):\n",
    "    print(str(i)+\": \"+str(np.sum(Y_test[i])))"
   ]
  },
  {
   "cell_type": "code",
   "execution_count": 43,
   "metadata": {},
   "outputs": [],
   "source": [
    "preds_test = model.predict(X_test)"
   ]
  },
  {
   "cell_type": "code",
   "execution_count": 110,
   "metadata": {},
   "outputs": [
    {
     "data": {
      "text/plain": [
       "(132, 224, 224, 1)"
      ]
     },
     "execution_count": 110,
     "metadata": {},
     "output_type": "execute_result"
    }
   ],
   "source": [
    "preds_test.shape"
   ]
  },
  {
   "cell_type": "code",
   "execution_count": 44,
   "metadata": {},
   "outputs": [],
   "source": [
    "preds_test_t = (preds_test > 0.5).astype(np.uint8)"
   ]
  },
  {
   "cell_type": "code",
   "execution_count": 45,
   "metadata": {},
   "outputs": [
    {
     "name": "stdout",
     "output_type": "stream",
     "text": [
      "0: 0\n",
      "1: 0\n",
      "2: 0\n",
      "3: 0\n",
      "4: 0\n",
      "5: 0\n",
      "6: 0\n",
      "7: 0\n",
      "8: 0\n",
      "9: 0\n",
      "10: 0\n",
      "11: 0\n",
      "12: 0\n",
      "13: 0\n",
      "14: 0\n",
      "15: 0\n",
      "16: 9\n",
      "17: 0\n",
      "18: 0\n",
      "19: 0\n",
      "20: 0\n",
      "21: 0\n",
      "22: 0\n",
      "23: 0\n",
      "24: 0\n",
      "25: 0\n",
      "26: 0\n",
      "27: 0\n",
      "28: 0\n",
      "29: 0\n",
      "30: 0\n",
      "31: 0\n",
      "32: 0\n",
      "33: 0\n",
      "34: 0\n",
      "35: 0\n",
      "36: 0\n",
      "37: 0\n",
      "38: 0\n",
      "39: 0\n",
      "40: 0\n",
      "41: 0\n",
      "42: 0\n",
      "43: 0\n",
      "44: 0\n",
      "45: 0\n",
      "46: 0\n",
      "47: 0\n",
      "48: 0\n",
      "49: 0\n",
      "50: 0\n",
      "51: 0\n",
      "52: 0\n",
      "53: 0\n",
      "54: 0\n",
      "55: 0\n",
      "56: 0\n",
      "57: 0\n",
      "58: 0\n",
      "59: 0\n",
      "60: 0\n",
      "61: 0\n",
      "62: 0\n",
      "63: 0\n",
      "64: 0\n",
      "65: 0\n",
      "66: 0\n",
      "67: 0\n",
      "68: 0\n",
      "69: 0\n",
      "70: 0\n",
      "71: 0\n",
      "72: 0\n",
      "73: 0\n",
      "74: 0\n",
      "75: 0\n",
      "76: 0\n",
      "77: 0\n",
      "78: 0\n",
      "79: 0\n",
      "80: 306\n",
      "81: 0\n",
      "82: 0\n",
      "83: 0\n",
      "84: 0\n",
      "85: 0\n",
      "86: 0\n",
      "87: 0\n",
      "88: 0\n",
      "89: 0\n",
      "90: 0\n",
      "91: 0\n",
      "92: 0\n",
      "93: 0\n",
      "94: 0\n",
      "95: 0\n",
      "96: 0\n",
      "97: 0\n",
      "98: 0\n",
      "99: 0\n",
      "100: 0\n",
      "101: 0\n",
      "102: 0\n",
      "103: 0\n",
      "104: 0\n",
      "105: 0\n",
      "106: 220\n",
      "107: 0\n",
      "108: 0\n",
      "109: 0\n",
      "110: 0\n",
      "111: 0\n",
      "112: 0\n",
      "113: 0\n",
      "114: 0\n",
      "115: 0\n",
      "116: 0\n",
      "117: 0\n",
      "118: 0\n",
      "119: 0\n",
      "120: 0\n",
      "121: 0\n",
      "122: 0\n",
      "123: 0\n",
      "124: 0\n",
      "125: 0\n",
      "126: 0\n",
      "127: 0\n",
      "128: 0\n",
      "129: 0\n",
      "130: 0\n",
      "131: 0\n",
      "132: 0\n",
      "133: 0\n",
      "134: 0\n",
      "135: 0\n",
      "136: 0\n",
      "137: 0\n",
      "138: 0\n",
      "139: 0\n",
      "140: 0\n",
      "141: 0\n",
      "142: 0\n",
      "143: 0\n",
      "144: 0\n",
      "145: 0\n",
      "146: 0\n",
      "147: 0\n",
      "148: 0\n",
      "149: 0\n",
      "150: 0\n",
      "151: 0\n",
      "152: 0\n",
      "153: 0\n",
      "154: 0\n",
      "155: 0\n",
      "156: 0\n",
      "157: 0\n",
      "158: 0\n",
      "159: 0\n",
      "160: 0\n",
      "161: 0\n",
      "162: 0\n",
      "163: 0\n",
      "164: 0\n",
      "165: 0\n",
      "166: 0\n",
      "167: 0\n",
      "168: 0\n",
      "169: 0\n",
      "170: 0\n",
      "171: 0\n",
      "172: 0\n",
      "173: 0\n",
      "174: 0\n",
      "175: 0\n",
      "176: 0\n",
      "177: 0\n",
      "178: 0\n",
      "179: 0\n",
      "180: 0\n",
      "181: 0\n",
      "182: 0\n",
      "183: 0\n",
      "184: 0\n",
      "185: 0\n",
      "186: 0\n",
      "187: 0\n",
      "188: 0\n",
      "189: 0\n",
      "190: 0\n",
      "191: 0\n",
      "192: 0\n",
      "193: 0\n",
      "194: 0\n",
      "195: 0\n",
      "196: 0\n",
      "197: 0\n",
      "198: 0\n",
      "199: 0\n",
      "200: 0\n",
      "201: 0\n",
      "202: 0\n",
      "203: 0\n",
      "204: 0\n",
      "205: 0\n",
      "206: 0\n",
      "207: 0\n",
      "208: 0\n",
      "209: 0\n",
      "210: 0\n",
      "211: 0\n",
      "212: 0\n",
      "213: 0\n",
      "214: 0\n",
      "215: 0\n",
      "216: 0\n",
      "217: 0\n",
      "218: 106\n",
      "219: 0\n",
      "220: 0\n",
      "221: 0\n",
      "222: 0\n",
      "223: 0\n",
      "224: 0\n",
      "225: 0\n",
      "226: 0\n",
      "227: 0\n",
      "228: 0\n",
      "229: 0\n",
      "230: 0\n",
      "231: 0\n",
      "232: 0\n",
      "233: 0\n",
      "234: 0\n",
      "235: 0\n",
      "236: 0\n",
      "237: 0\n",
      "238: 0\n",
      "239: 0\n",
      "240: 0\n",
      "241: 0\n",
      "242: 0\n",
      "243: 0\n",
      "244: 0\n",
      "245: 0\n",
      "246: 0\n",
      "247: 0\n",
      "248: 0\n",
      "249: 0\n",
      "250: 0\n",
      "251: 0\n",
      "252: 0\n",
      "253: 0\n",
      "254: 0\n",
      "255: 0\n",
      "256: 0\n",
      "257: 0\n",
      "258: 0\n",
      "259: 0\n",
      "260: 0\n",
      "261: 0\n",
      "262: 0\n",
      "263: 0\n",
      "264: 0\n",
      "265: 0\n",
      "266: 0\n",
      "267: 0\n",
      "268: 0\n",
      "269: 0\n",
      "270: 0\n",
      "271: 0\n",
      "272: 0\n",
      "273: 0\n",
      "274: 0\n",
      "275: 0\n",
      "276: 0\n",
      "277: 0\n",
      "278: 0\n",
      "279: 0\n",
      "280: 0\n",
      "281: 0\n",
      "282: 0\n",
      "283: 0\n",
      "284: 0\n",
      "285: 0\n",
      "286: 0\n",
      "287: 0\n",
      "288: 0\n",
      "289: 0\n",
      "290: 0\n",
      "291: 0\n",
      "292: 0\n",
      "293: 0\n",
      "294: 0\n",
      "295: 0\n",
      "296: 0\n",
      "297: 0\n",
      "298: 0\n",
      "299: 0\n",
      "300: 0\n",
      "301: 0\n",
      "302: 0\n",
      "303: 0\n",
      "304: 0\n",
      "305: 0\n",
      "306: 0\n",
      "307: 0\n",
      "308: 0\n",
      "309: 0\n",
      "310: 0\n",
      "311: 0\n",
      "312: 0\n",
      "313: 0\n",
      "314: 0\n",
      "315: 0\n",
      "316: 0\n",
      "317: 0\n",
      "318: 0\n",
      "319: 0\n",
      "320: 0\n",
      "321: 0\n",
      "322: 0\n",
      "323: 0\n",
      "324: 0\n",
      "325: 0\n",
      "326: 0\n",
      "327: 0\n",
      "328: 0\n",
      "329: 0\n",
      "330: 0\n",
      "331: 0\n",
      "332: 0\n",
      "333: 0\n",
      "334: 0\n",
      "335: 0\n",
      "336: 0\n",
      "337: 0\n",
      "338: 0\n",
      "339: 0\n",
      "340: 0\n",
      "341: 0\n",
      "342: 0\n",
      "343: 0\n",
      "344: 0\n",
      "345: 0\n",
      "346: 0\n",
      "347: 0\n",
      "348: 0\n",
      "349: 0\n",
      "350: 0\n",
      "351: 0\n",
      "352: 0\n",
      "353: 0\n",
      "354: 0\n",
      "355: 0\n",
      "356: 0\n",
      "357: 0\n",
      "358: 0\n",
      "359: 0\n"
     ]
    }
   ],
   "source": [
    "for i in range(0,preds_test_t.shape[0]):\n",
    "    print(str(i)+\": \"+str(np.sum(preds_test_t[i])))"
   ]
  },
  {
   "cell_type": "code",
   "execution_count": 36,
   "metadata": {},
   "outputs": [
    {
     "name": "stdout",
     "output_type": "stream",
     "text": [
      "(132, 224, 224, 1)\n",
      "1.0\n"
     ]
    }
   ],
   "source": [
    "#preds_test_t.shape=(132,224,224,1)\n",
    "print(preds_test_t.shape)\n",
    "print(np.max(preds_test[8]))"
   ]
  },
  {
   "cell_type": "code",
   "execution_count": 38,
   "metadata": {},
   "outputs": [],
   "source": [
    "Y_train = np.load(\"11Y_train224.npy\")\n",
    "Y_train = Y_train.astype('uint8')\n",
    "#Y_test = np.load(\"Y_test224.npy\")\n",
    "#Y_test= Y_train.astype('uint8')"
   ]
  },
  {
   "cell_type": "code",
   "execution_count": 47,
   "metadata": {},
   "outputs": [],
   "source": [
    "mappedResult = []\n",
    "for i in range(0,X_test.shape[0]):\n",
    "    curGT = Y_test[i]\n",
    "    curPD = preds_test_t[i]\n",
    "    values = curGT.copy()\n",
    "    #print(curGT.shape)\n",
    "    #print(curPD.shape)\n",
    "    for x in range(0,IMG_WIDTH):\n",
    "        for y in range(0,IMG_WIDTH):\n",
    "            if curGT[x,y]==0 and curPD[x,y]==0:\n",
    "                #print(\"here\")\n",
    "                values[x,y] = 0\n",
    "            elif curGT[x,y]==0 and curPD[x,y]==1:\n",
    "                #print(\"here1\")\n",
    "                values[x,y] = 1\n",
    "            elif curGT[x,y]==1 and curPD[x,y]==0:\n",
    "                #print(\"here2\")\n",
    "                values[x,y] = 2\n",
    "            elif curGT[x,y]==1 and curPD[x,y]==1:\n",
    "                values[x,y] = 3\n",
    "    mappedResult.append(values)\n",
    "    \n",
    "mappedResult = np.asarray(mappedResult)"
   ]
  },
  {
   "cell_type": "code",
   "execution_count": 70,
   "metadata": {},
   "outputs": [
    {
     "data": {
      "text/plain": [
       "(132, 224, 224, 1)"
      ]
     },
     "execution_count": 70,
     "metadata": {},
     "output_type": "execute_result"
    }
   ],
   "source": [
    "mappedResult.shape"
   ]
  },
  {
   "cell_type": "code",
   "execution_count": 48,
   "metadata": {},
   "outputs": [
    {
     "name": "stdout",
     "output_type": "stream",
     "text": [
      "0: 0\n",
      "1: 0\n",
      "2: 0\n",
      "3: 0\n",
      "4: 0\n",
      "5: 2\n",
      "6: 0\n",
      "7: 0\n",
      "8: 0\n",
      "9: 0\n",
      "10: 2\n",
      "11: 0\n",
      "12: 0\n",
      "13: 0\n",
      "14: 0\n",
      "15: 0\n",
      "16: 3\n",
      "17: 0\n",
      "18: 0\n",
      "19: 2\n",
      "20: 2\n",
      "21: 2\n",
      "22: 0\n",
      "23: 0\n",
      "24: 0\n",
      "25: 0\n",
      "26: 0\n",
      "27: 0\n",
      "28: 0\n",
      "29: 0\n",
      "30: 0\n",
      "31: 0\n",
      "32: 0\n",
      "33: 2\n",
      "34: 0\n",
      "35: 2\n",
      "36: 0\n",
      "37: 0\n",
      "38: 0\n",
      "39: 0\n",
      "40: 2\n",
      "41: 0\n",
      "42: 0\n",
      "43: 0\n",
      "44: 0\n",
      "45: 0\n",
      "46: 0\n",
      "47: 0\n",
      "48: 0\n",
      "49: 0\n",
      "50: 0\n",
      "51: 0\n",
      "52: 0\n",
      "53: 0\n",
      "54: 0\n",
      "55: 0\n",
      "56: 0\n",
      "57: 0\n",
      "58: 0\n",
      "59: 0\n",
      "60: 2\n",
      "61: 0\n",
      "62: 0\n",
      "63: 0\n",
      "64: 0\n",
      "65: 0\n",
      "66: 0\n",
      "67: 0\n",
      "68: 0\n",
      "69: 0\n",
      "70: 0\n",
      "71: 0\n",
      "72: 0\n",
      "73: 0\n",
      "74: 2\n",
      "75: 2\n",
      "76: 0\n",
      "77: 0\n",
      "78: 0\n",
      "79: 0\n",
      "80: 3\n",
      "81: 0\n",
      "82: 0\n",
      "83: 0\n",
      "84: 0\n",
      "85: 0\n",
      "86: 2\n",
      "87: 0\n",
      "88: 0\n",
      "89: 2\n",
      "90: 0\n",
      "91: 0\n",
      "92: 2\n",
      "93: 0\n",
      "94: 2\n",
      "95: 2\n",
      "96: 0\n",
      "97: 0\n",
      "98: 0\n",
      "99: 2\n",
      "100: 0\n",
      "101: 0\n",
      "102: 2\n",
      "103: 0\n",
      "104: 0\n",
      "105: 0\n",
      "106: 3\n",
      "107: 0\n",
      "108: 0\n",
      "109: 0\n",
      "110: 0\n",
      "111: 0\n",
      "112: 0\n",
      "113: 0\n",
      "114: 0\n",
      "115: 0\n",
      "116: 2\n",
      "117: 0\n",
      "118: 2\n",
      "119: 2\n",
      "120: 0\n",
      "121: 0\n",
      "122: 0\n",
      "123: 0\n",
      "124: 0\n",
      "125: 0\n",
      "126: 0\n",
      "127: 0\n",
      "128: 0\n",
      "129: 0\n",
      "130: 0\n",
      "131: 0\n",
      "132: 2\n",
      "133: 0\n",
      "134: 2\n",
      "135: 2\n",
      "136: 0\n",
      "137: 0\n",
      "138: 0\n",
      "139: 0\n",
      "140: 0\n",
      "141: 0\n",
      "142: 0\n",
      "143: 2\n",
      "144: 0\n",
      "145: 0\n",
      "146: 0\n",
      "147: 0\n",
      "148: 0\n",
      "149: 0\n",
      "150: 0\n",
      "151: 0\n",
      "152: 0\n",
      "153: 0\n",
      "154: 0\n",
      "155: 0\n",
      "156: 0\n",
      "157: 0\n",
      "158: 0\n",
      "159: 0\n",
      "160: 2\n",
      "161: 0\n",
      "162: 0\n",
      "163: 2\n",
      "164: 0\n",
      "165: 0\n",
      "166: 0\n",
      "167: 0\n",
      "168: 2\n",
      "169: 0\n",
      "170: 2\n",
      "171: 0\n",
      "172: 0\n",
      "173: 0\n",
      "174: 0\n",
      "175: 0\n",
      "176: 0\n",
      "177: 0\n",
      "178: 0\n",
      "179: 0\n",
      "180: 0\n",
      "181: 0\n",
      "182: 0\n",
      "183: 0\n",
      "184: 0\n",
      "185: 0\n",
      "186: 0\n",
      "187: 0\n",
      "188: 0\n",
      "189: 0\n",
      "190: 0\n",
      "191: 0\n",
      "192: 0\n",
      "193: 0\n",
      "194: 0\n",
      "195: 0\n",
      "196: 0\n",
      "197: 0\n",
      "198: 0\n",
      "199: 2\n",
      "200: 0\n",
      "201: 0\n",
      "202: 0\n",
      "203: 0\n",
      "204: 0\n",
      "205: 2\n",
      "206: 0\n",
      "207: 0\n",
      "208: 2\n",
      "209: 2\n",
      "210: 0\n",
      "211: 0\n",
      "212: 0\n",
      "213: 0\n",
      "214: 0\n",
      "215: 0\n",
      "216: 2\n",
      "217: 2\n",
      "218: 3\n",
      "219: 0\n",
      "220: 0\n",
      "221: 0\n",
      "222: 0\n",
      "223: 0\n",
      "224: 0\n",
      "225: 0\n",
      "226: 0\n",
      "227: 0\n",
      "228: 2\n",
      "229: 0\n",
      "230: 2\n",
      "231: 0\n",
      "232: 0\n",
      "233: 0\n",
      "234: 0\n",
      "235: 0\n",
      "236: 0\n",
      "237: 0\n",
      "238: 0\n",
      "239: 2\n",
      "240: 0\n",
      "241: 2\n",
      "242: 0\n",
      "243: 0\n",
      "244: 0\n",
      "245: 0\n",
      "246: 0\n",
      "247: 0\n",
      "248: 0\n",
      "249: 0\n",
      "250: 0\n",
      "251: 0\n",
      "252: 2\n",
      "253: 0\n",
      "254: 0\n",
      "255: 0\n",
      "256: 2\n",
      "257: 0\n",
      "258: 2\n",
      "259: 2\n",
      "260: 0\n",
      "261: 0\n",
      "262: 0\n",
      "263: 2\n",
      "264: 0\n",
      "265: 0\n",
      "266: 0\n",
      "267: 0\n",
      "268: 2\n",
      "269: 0\n",
      "270: 0\n",
      "271: 0\n",
      "272: 0\n",
      "273: 0\n",
      "274: 0\n",
      "275: 0\n",
      "276: 0\n",
      "277: 0\n",
      "278: 2\n",
      "279: 0\n",
      "280: 0\n",
      "281: 0\n",
      "282: 0\n",
      "283: 0\n",
      "284: 0\n",
      "285: 0\n",
      "286: 0\n",
      "287: 0\n",
      "288: 0\n",
      "289: 0\n",
      "290: 0\n",
      "291: 2\n",
      "292: 0\n",
      "293: 0\n",
      "294: 0\n",
      "295: 2\n",
      "296: 0\n",
      "297: 0\n",
      "298: 0\n",
      "299: 0\n",
      "300: 0\n",
      "301: 0\n",
      "302: 0\n",
      "303: 0\n",
      "304: 0\n",
      "305: 0\n",
      "306: 0\n",
      "307: 0\n",
      "308: 0\n",
      "309: 2\n",
      "310: 0\n",
      "311: 0\n",
      "312: 0\n",
      "313: 0\n",
      "314: 0\n",
      "315: 2\n",
      "316: 2\n",
      "317: 0\n",
      "318: 0\n",
      "319: 0\n",
      "320: 0\n",
      "321: 0\n",
      "322: 0\n",
      "323: 0\n",
      "324: 0\n",
      "325: 0\n",
      "326: 2\n",
      "327: 0\n",
      "328: 2\n",
      "329: 2\n",
      "330: 0\n",
      "331: 0\n",
      "332: 0\n",
      "333: 2\n",
      "334: 0\n",
      "335: 0\n",
      "336: 0\n",
      "337: 0\n",
      "338: 0\n",
      "339: 0\n",
      "340: 0\n",
      "341: 0\n",
      "342: 0\n",
      "343: 0\n",
      "344: 0\n",
      "345: 0\n",
      "346: 0\n",
      "347: 0\n",
      "348: 0\n",
      "349: 0\n",
      "350: 0\n",
      "351: 0\n",
      "352: 0\n",
      "353: 0\n",
      "354: 0\n",
      "355: 0\n",
      "356: 2\n",
      "357: 0\n",
      "358: 0\n",
      "359: 0\n"
     ]
    }
   ],
   "source": [
    "for i in range(mappedResult.shape[0]):\n",
    "    print(str(i)+\": \"+str(np.max(mappedResult[i])))"
   ]
  },
  {
   "cell_type": "code",
   "execution_count": 50,
   "metadata": {},
   "outputs": [
    {
     "data": {
      "image/png": "[encoded data removed]",
      "text/plain": [
       "<Figure size 432x288 with 2 Axes>"
      ]
     },
     "metadata": {
      "needs_background": "light"
     },
     "output_type": "display_data"
    },
    {
     "data": {
      "image/png": "[encoded data removed]",
      "text/plain": [
       "<Figure size 432x288 with 2 Axes>"
      ]
     },
     "metadata": {
      "needs_background": "light"
     },
     "output_type": "display_data"
    }
   ],
   "source": [
    "ix = 135\n",
    "#imshow(np.squeeze(X_train[ix]))\n",
    "#plt.show()\n",
    "imshow(np.squeeze(Y_test[ix]),cmap=plt.cm.Spectral)\n",
    "plt.show()\n",
    "#imshow(np.squeeze(preds_test_t[ix]),cmap=plt.cm.Spectral)\n",
    "#plt.show()\n",
    "imshow(np.squeeze(mappedResult[ix]),cmap=plt.cm.Spectral)\n",
    "plt.show()"
   ]
  },
  {
   "cell_type": "code",
   "execution_count": 38,
   "metadata": {},
   "outputs": [],
   "source": [
    "preds_test_mod = preds_test_t\n",
    "preds_test_mod.shape = preds_test_mod.shape[0] * 224*224 ,1\n",
    "preds_test_mod2  = preds_test_mod.tolist()\n",
    "predictionlist = [item for sublist in preds_test_mod2 for item in sublist]"
   ]
  },
  {
   "cell_type": "code",
   "execution_count": 39,
   "metadata": {},
   "outputs": [],
   "source": [
    "groundtruth = Y_test\n",
    "groundtruth.shape = groundtruth.shape[0] * 224*224 ,1\n",
    "groundtruth  = groundtruth.tolist()\n",
    "groundtruthlist = [item for sublist in groundtruth for item in sublist]"
   ]
  },
  {
   "cell_type": "code",
   "execution_count": 22,
   "metadata": {},
   "outputs": [],
   "source": [
    "from matplotlib import pyplot as plt\n",
    "from sklearn.metrics import confusion_matrix\n",
    "import itertools\n",
    "import matplotlib.pyplot as plt\n",
    "%matplotlib inline\n",
    "\n",
    "def plot_confusion_matrix(cm, classes,\n",
    "                          normalize=False,\n",
    "                          title='Confusion matrix',\n",
    "                          cmap=plt.cm.Blues):\n",
    "    \"\"\"\n",
    "    This function prints and plots the confusion matrix.\n",
    "    Normalization can be applied by setting `normalize=True`.\n",
    "    \"\"\"\n",
    "    if normalize:\n",
    "        cm = cm.astype('float') / cm.sum(axis=1)[:, np.newaxis]\n",
    "        print(\"Normalized confusion matrix\")\n",
    "    else:\n",
    "        print('Confusion matrix, without normalization')\n",
    "\n",
    "    print(cm)\n",
    "\n",
    "    plt.imshow(cm, interpolation='nearest', cmap=cmap)\n",
    "    plt.title(title)\n",
    "    plt.colorbar()\n",
    "    tick_marks = np.arange(len(classes))\n",
    "    plt.xticks(tick_marks, classes, rotation=45)\n",
    "    plt.yticks(tick_marks, classes)\n",
    "\n",
    "    fmt = '.2f' if normalize else 'd'\n",
    "    thresh = cm.max() / 2.\n",
    "    for i, j in itertools.product(range(cm.shape[0]), range(cm.shape[1])):\n",
    "        plt.text(j, i, format(cm[i, j], fmt),\n",
    "                 horizontalalignment=\"center\",\n",
    "                 color=\"white\" if cm[i, j] > thresh else \"black\")\n",
    "\n",
    "    plt.tight_layout()\n",
    "    plt.ylabel('True label')\n",
    "    plt.xlabel('Predicted label')"
   ]
  },
  {
   "cell_type": "code",
   "execution_count": 40,
   "metadata": {},
   "outputs": [],
   "source": [
    "cm = confusion_matrix(groundtruthlist, predictionlist)"
   ]
  },
  {
   "cell_type": "code",
   "execution_count": 63,
   "metadata": {},
   "outputs": [
    {
     "data": {
      "text/plain": [
       "array([[6553872,   35969],\n",
       "       [   5018,   28373]], dtype=int64)"
      ]
     },
     "execution_count": 63,
     "metadata": {},
     "output_type": "execute_result"
    }
   ],
   "source": [
    "cm\n"
   ]
  },
  {
   "cell_type": "code",
   "execution_count": 41,
   "metadata": {},
   "outputs": [
    {
     "name": "stdout",
     "output_type": "stream",
     "text": [
      "Confusion matrix, without normalization\n",
      "[[18015186      264]\n",
      " [   47533      377]]\n"
     ]
    },
    {
     "data": {
      "image/png": "[encoded data removed]",
      "text/plain": [
       "<Figure size 432x288 with 2 Axes>"
      ]
     },
     "metadata": {
      "needs_background": "light"
     },
     "output_type": "display_data"
    }
   ],
   "source": [
    "plot_confusion_matrix(cm,classes=[\"Dryland\",\"Wetland\"])"
   ]
  },
  {
   "cell_type": "code",
   "execution_count": 25,
   "metadata": {},
   "outputs": [
    {
     "name": "stdout",
     "output_type": "stream",
     "text": [
      "0.8390829077026141\n",
      "0.5214804199507773\n",
      "0.9998766649277188\n",
      "0.9842224922582415\n",
      "0.9929886598267554\n"
     ]
    }
   ],
   "source": [
    "from sklearn.metrics import f1_score, precision_score,recall_score\n",
    "print(f1_score(groundtruthlist, predictionlist, average='macro'))\n",
    "print(precision_score(groundtruthlist, predictionlist,pos_label=1))\n",
    "print(precision_score(groundtruthlist, predictionlist,pos_label=0))\n",
    "print(recall_score(groundtruthlist, predictionlist,pos_label=1))\n",
    "print(recall_score(groundtruthlist, predictionlist,pos_label=0))"
   ]
  },
  {
   "cell_type": "code",
   "execution_count": 92,
   "metadata": {},
   "outputs": [
    {
     "name": "stdout",
     "output_type": "stream",
     "text": [
      "0.6091106692851627\n",
      "0.22630879927609204\n",
      "0.9919125392942334\n",
      "0.13407115991526522\n",
      "0.9990975135599625\n",
      "0.725291173581552\n",
      "0.9848301681361279\n"
     ]
    }
   ],
   "source": [
    "#new confusion Matrix with cti\n",
    "from sklearn.metrics import f1_score, precision_score,recall_score\n",
    "print(f1_score(groundtruthlist, predictionlist, average='macro'))\n",
    "print(f1_score(groundtruthlist, predictionlist,pos_label=1))\n",
    "print(f1_score(groundtruthlist, predictionlist,pos_label=0))\n",
    "print(precision_score(groundtruthlist, predictionlist,pos_label=1))\n",
    "print(precision_score(groundtruthlist, predictionlist,pos_label=0))\n",
    "print(recall_score(groundtruthlist, predictionlist,pos_label=1))\n",
    "print(recall_score(groundtruthlist, predictionlist,pos_label=0))"
   ]
  },
  {
   "cell_type": "code",
   "execution_count": 33,
   "metadata": {},
   "outputs": [
    {
     "name": "stdout",
     "output_type": "stream",
     "text": [
      "0.9830729166666666\n"
     ]
    }
   ],
   "source": [
    "from sklearn.metrics import accuracy_score\n",
    "print(accuracy_score(groundtruthlist, predictionlist))\n"
   ]
  },
  {
   "cell_type": "code",
   "execution_count": 107,
   "metadata": {},
   "outputs": [
    {
     "data": {
      "text/plain": [
       "155955"
      ]
     },
     "execution_count": 107,
     "metadata": {},
     "output_type": "execute_result"
    }
   ],
   "source": [
    "sum(groundtruthlist)"
   ]
  },
  {
   "cell_type": "code",
   "execution_count": 109,
   "metadata": {},
   "outputs": [
    {
     "data": {
      "text/plain": [
       "602112"
      ]
     },
     "execution_count": 109,
     "metadata": {},
     "output_type": "execute_result"
    }
   ],
   "source": [
    "len(groundtruthlist)"
   ]
  },
  {
   "cell_type": "code",
   "execution_count": 110,
   "metadata": {},
   "outputs": [
    {
     "data": {
      "text/plain": [
       "446157"
      ]
     },
     "execution_count": 110,
     "metadata": {},
     "output_type": "execute_result"
    }
   ],
   "source": [
    "len(groundtruthlist)-sum(groundtruthlist)"
   ]
  },
  {
   "cell_type": "code",
   "execution_count": 34,
   "metadata": {},
   "outputs": [
    {
     "name": "stdout",
     "output_type": "stream",
     "text": [
      "0.2750504371217216\n"
     ]
    }
   ],
   "source": [
    "print(f1_score(groundtruthlist, predictionlist, pos_label=1))"
   ]
  },
  {
   "cell_type": "code",
   "execution_count": 35,
   "metadata": {},
   "outputs": [
    {
     "name": "stdout",
     "output_type": "stream",
     "text": [
      "0.9914364821503755\n"
     ]
    }
   ],
   "source": [
    "print(f1_score(groundtruthlist, predictionlist, pos_label=0))"
   ]
  },
  {
   "cell_type": "code",
   "execution_count": 36,
   "metadata": {},
   "outputs": [
    {
     "data": {
      "text/plain": [
       "0.6332434596360486"
      ]
     },
     "execution_count": 36,
     "metadata": {},
     "output_type": "execute_result"
    }
   ],
   "source": [
    "a = f1_score(groundtruthlist, predictionlist, pos_label=1)\n",
    "b= f1_score(groundtruthlist, predictionlist, pos_label=0)\n",
    "c =(a+b)/2\n",
    "c"
   ]
  },
  {
   "cell_type": "code",
   "execution_count": null,
   "metadata": {},
   "outputs": [],
   "source": []
  },
  {
   "cell_type": "code",
   "execution_count": null,
   "metadata": {},
   "outputs": [],
   "source": []
  },
  {
   "cell_type": "code",
   "execution_count": null,
   "metadata": {},
   "outputs": [],
   "source": []
  },
  {
   "cell_type": "code",
   "execution_count": null,
   "metadata": {},
   "outputs": [],
   "source": []
  },
  {
   "cell_type": "code",
   "execution_count": 10,
   "metadata": {},
   "outputs": [
    {
     "ename": "TypeError",
     "evalue": "('Keyword argument not understood:', 'interpolation')",
     "output_type": "error",
     "traceback": [
      "\u001b[1;31m---------------------------------------------------------------------------\u001b[0m",
      "\u001b[1;31mTypeError\u001b[0m                                 Traceback (most recent call last)",
      "\u001b[1;32m<ipython-input-10-5e4a62e25718>\u001b[0m in \u001b[0;36m<module>\u001b[1;34m()\u001b[0m\n\u001b[1;32m----> 1\u001b[1;33m \u001b[0mmodel\u001b[0m \u001b[1;33m=\u001b[0m \u001b[0mload_model\u001b[0m\u001b[1;33m(\u001b[0m\u001b[1;34m'unetLr03.h5'\u001b[0m\u001b[1;33m,\u001b[0m \u001b[0mcustom_objects\u001b[0m\u001b[1;33m=\u001b[0m\u001b[1;33m{\u001b[0m\u001b[1;34m'dice_coef'\u001b[0m\u001b[1;33m:\u001b[0m \u001b[0mdice_coef\u001b[0m\u001b[1;33m,\u001b[0m\u001b[1;34m'dice_coef_loss'\u001b[0m\u001b[1;33m:\u001b[0m\u001b[0mdice_coef_loss\u001b[0m\u001b[1;33m}\u001b[0m\u001b[1;33m)\u001b[0m\u001b[1;33m\u001b[0m\u001b[0m\n\u001b[0m",
      "\u001b[1;32mc:\\programdata\\anaconda3\\envs\\tflowgpu\\lib\\site-packages\\keras\\models.py\u001b[0m in \u001b[0;36mload_model\u001b[1;34m(filepath, custom_objects, compile)\u001b[0m\n\u001b[0;32m    268\u001b[0m             \u001b[1;32mraise\u001b[0m \u001b[0mValueError\u001b[0m\u001b[1;33m(\u001b[0m\u001b[1;34m'No model found in config file.'\u001b[0m\u001b[1;33m)\u001b[0m\u001b[1;33m\u001b[0m\u001b[0m\n\u001b[0;32m    269\u001b[0m         \u001b[0mmodel_config\u001b[0m \u001b[1;33m=\u001b[0m \u001b[0mjson\u001b[0m\u001b[1;33m.\u001b[0m\u001b[0mloads\u001b[0m\u001b[1;33m(\u001b[0m\u001b[0mmodel_config\u001b[0m\u001b[1;33m.\u001b[0m\u001b[0mdecode\u001b[0m\u001b[1;33m(\u001b[0m\u001b[1;34m'utf-8'\u001b[0m\u001b[1;33m)\u001b[0m\u001b[1;33m)\u001b[0m\u001b[1;33m\u001b[0m\u001b[0m\n\u001b[1;32m--> 270\u001b[1;33m         \u001b[0mmodel\u001b[0m \u001b[1;33m=\u001b[0m \u001b[0mmodel_from_config\u001b[0m\u001b[1;33m(\u001b[0m\u001b[0mmodel_config\u001b[0m\u001b[1;33m,\u001b[0m \u001b[0mcustom_objects\u001b[0m\u001b[1;33m=\u001b[0m\u001b[0mcustom_objects\u001b[0m\u001b[1;33m)\u001b[0m\u001b[1;33m\u001b[0m\u001b[0m\n\u001b[0m\u001b[0;32m    271\u001b[0m \u001b[1;33m\u001b[0m\u001b[0m\n\u001b[0;32m    272\u001b[0m         \u001b[1;31m# set weights\u001b[0m\u001b[1;33m\u001b[0m\u001b[1;33m\u001b[0m\u001b[0m\n",
      "\u001b[1;32mc:\\programdata\\anaconda3\\envs\\tflowgpu\\lib\\site-packages\\keras\\models.py\u001b[0m in \u001b[0;36mmodel_from_config\u001b[1;34m(config, custom_objects)\u001b[0m\n\u001b[0;32m    345\u001b[0m                         \u001b[1;34m'Maybe you meant to use '\u001b[0m\u001b[1;33m\u001b[0m\u001b[0m\n\u001b[0;32m    346\u001b[0m                         '`Sequential.from_config(config)`?')\n\u001b[1;32m--> 347\u001b[1;33m     \u001b[1;32mreturn\u001b[0m \u001b[0mlayer_module\u001b[0m\u001b[1;33m.\u001b[0m\u001b[0mdeserialize\u001b[0m\u001b[1;33m(\u001b[0m\u001b[0mconfig\u001b[0m\u001b[1;33m,\u001b[0m \u001b[0mcustom_objects\u001b[0m\u001b[1;33m=\u001b[0m\u001b[0mcustom_objects\u001b[0m\u001b[1;33m)\u001b[0m\u001b[1;33m\u001b[0m\u001b[0m\n\u001b[0m\u001b[0;32m    348\u001b[0m \u001b[1;33m\u001b[0m\u001b[0m\n\u001b[0;32m    349\u001b[0m \u001b[1;33m\u001b[0m\u001b[0m\n",
      "\u001b[1;32mc:\\programdata\\anaconda3\\envs\\tflowgpu\\lib\\site-packages\\keras\\layers\\__init__.py\u001b[0m in \u001b[0;36mdeserialize\u001b[1;34m(config, custom_objects)\u001b[0m\n\u001b[0;32m     53\u001b[0m                                     \u001b[0mmodule_objects\u001b[0m\u001b[1;33m=\u001b[0m\u001b[0mglobs\u001b[0m\u001b[1;33m,\u001b[0m\u001b[1;33m\u001b[0m\u001b[0m\n\u001b[0;32m     54\u001b[0m                                     \u001b[0mcustom_objects\u001b[0m\u001b[1;33m=\u001b[0m\u001b[0mcustom_objects\u001b[0m\u001b[1;33m,\u001b[0m\u001b[1;33m\u001b[0m\u001b[0m\n\u001b[1;32m---> 55\u001b[1;33m                                     printable_module_name='layer')\n\u001b[0m",
      "\u001b[1;32mc:\\programdata\\anaconda3\\envs\\tflowgpu\\lib\\site-packages\\keras\\utils\\generic_utils.py\u001b[0m in \u001b[0;36mdeserialize_keras_object\u001b[1;34m(identifier, module_objects, custom_objects, printable_module_name)\u001b[0m\n\u001b[0;32m    142\u001b[0m                 return cls.from_config(config['config'],\n\u001b[0;32m    143\u001b[0m                                        custom_objects=dict(list(_GLOBAL_CUSTOM_OBJECTS.items()) +\n\u001b[1;32m--> 144\u001b[1;33m                                                            list(custom_objects.items())))\n\u001b[0m\u001b[0;32m    145\u001b[0m             \u001b[1;32mwith\u001b[0m \u001b[0mCustomObjectScope\u001b[0m\u001b[1;33m(\u001b[0m\u001b[0mcustom_objects\u001b[0m\u001b[1;33m)\u001b[0m\u001b[1;33m:\u001b[0m\u001b[1;33m\u001b[0m\u001b[0m\n\u001b[0;32m    146\u001b[0m                 \u001b[1;32mreturn\u001b[0m \u001b[0mcls\u001b[0m\u001b[1;33m.\u001b[0m\u001b[0mfrom_config\u001b[0m\u001b[1;33m(\u001b[0m\u001b[0mconfig\u001b[0m\u001b[1;33m[\u001b[0m\u001b[1;34m'config'\u001b[0m\u001b[1;33m]\u001b[0m\u001b[1;33m)\u001b[0m\u001b[1;33m\u001b[0m\u001b[0m\n",
      "\u001b[1;32mc:\\programdata\\anaconda3\\envs\\tflowgpu\\lib\\site-packages\\keras\\engine\\topology.py\u001b[0m in \u001b[0;36mfrom_config\u001b[1;34m(cls, config, custom_objects)\u001b[0m\n\u001b[0;32m   2523\u001b[0m         \u001b[1;31m# First, we create all layers and enqueue nodes to be processed\u001b[0m\u001b[1;33m\u001b[0m\u001b[1;33m\u001b[0m\u001b[0m\n\u001b[0;32m   2524\u001b[0m         \u001b[1;32mfor\u001b[0m \u001b[0mlayer_data\u001b[0m \u001b[1;32min\u001b[0m \u001b[0mconfig\u001b[0m\u001b[1;33m[\u001b[0m\u001b[1;34m'layers'\u001b[0m\u001b[1;33m]\u001b[0m\u001b[1;33m:\u001b[0m\u001b[1;33m\u001b[0m\u001b[0m\n\u001b[1;32m-> 2525\u001b[1;33m             \u001b[0mprocess_layer\u001b[0m\u001b[1;33m(\u001b[0m\u001b[0mlayer_data\u001b[0m\u001b[1;33m)\u001b[0m\u001b[1;33m\u001b[0m\u001b[0m\n\u001b[0m\u001b[0;32m   2526\u001b[0m         \u001b[1;31m# Then we process nodes in order of layer depth.\u001b[0m\u001b[1;33m\u001b[0m\u001b[1;33m\u001b[0m\u001b[0m\n\u001b[0;32m   2527\u001b[0m         \u001b[1;31m# Nodes that cannot yet be processed (if the inbound node\u001b[0m\u001b[1;33m\u001b[0m\u001b[1;33m\u001b[0m\u001b[0m\n",
      "\u001b[1;32mc:\\programdata\\anaconda3\\envs\\tflowgpu\\lib\\site-packages\\keras\\engine\\topology.py\u001b[0m in \u001b[0;36mprocess_layer\u001b[1;34m(layer_data)\u001b[0m\n\u001b[0;32m   2509\u001b[0m \u001b[1;33m\u001b[0m\u001b[0m\n\u001b[0;32m   2510\u001b[0m             layer = deserialize_layer(layer_data,\n\u001b[1;32m-> 2511\u001b[1;33m                                       custom_objects=custom_objects)\n\u001b[0m\u001b[0;32m   2512\u001b[0m             \u001b[0mcreated_layers\u001b[0m\u001b[1;33m[\u001b[0m\u001b[0mlayer_name\u001b[0m\u001b[1;33m]\u001b[0m \u001b[1;33m=\u001b[0m \u001b[0mlayer\u001b[0m\u001b[1;33m\u001b[0m\u001b[0m\n\u001b[0;32m   2513\u001b[0m \u001b[1;33m\u001b[0m\u001b[0m\n",
      "\u001b[1;32mc:\\programdata\\anaconda3\\envs\\tflowgpu\\lib\\site-packages\\keras\\layers\\__init__.py\u001b[0m in \u001b[0;36mdeserialize\u001b[1;34m(config, custom_objects)\u001b[0m\n\u001b[0;32m     53\u001b[0m                                     \u001b[0mmodule_objects\u001b[0m\u001b[1;33m=\u001b[0m\u001b[0mglobs\u001b[0m\u001b[1;33m,\u001b[0m\u001b[1;33m\u001b[0m\u001b[0m\n\u001b[0;32m     54\u001b[0m                                     \u001b[0mcustom_objects\u001b[0m\u001b[1;33m=\u001b[0m\u001b[0mcustom_objects\u001b[0m\u001b[1;33m,\u001b[0m\u001b[1;33m\u001b[0m\u001b[0m\n\u001b[1;32m---> 55\u001b[1;33m                                     printable_module_name='layer')\n\u001b[0m",
      "\u001b[1;32mc:\\programdata\\anaconda3\\envs\\tflowgpu\\lib\\site-packages\\keras\\utils\\generic_utils.py\u001b[0m in \u001b[0;36mdeserialize_keras_object\u001b[1;34m(identifier, module_objects, custom_objects, printable_module_name)\u001b[0m\n\u001b[0;32m    144\u001b[0m                                                            list(custom_objects.items())))\n\u001b[0;32m    145\u001b[0m             \u001b[1;32mwith\u001b[0m \u001b[0mCustomObjectScope\u001b[0m\u001b[1;33m(\u001b[0m\u001b[0mcustom_objects\u001b[0m\u001b[1;33m)\u001b[0m\u001b[1;33m:\u001b[0m\u001b[1;33m\u001b[0m\u001b[0m\n\u001b[1;32m--> 146\u001b[1;33m                 \u001b[1;32mreturn\u001b[0m \u001b[0mcls\u001b[0m\u001b[1;33m.\u001b[0m\u001b[0mfrom_config\u001b[0m\u001b[1;33m(\u001b[0m\u001b[0mconfig\u001b[0m\u001b[1;33m[\u001b[0m\u001b[1;34m'config'\u001b[0m\u001b[1;33m]\u001b[0m\u001b[1;33m)\u001b[0m\u001b[1;33m\u001b[0m\u001b[0m\n\u001b[0m\u001b[0;32m    147\u001b[0m         \u001b[1;32melse\u001b[0m\u001b[1;33m:\u001b[0m\u001b[1;33m\u001b[0m\u001b[0m\n\u001b[0;32m    148\u001b[0m             \u001b[1;31m# Then `cls` may be a function returning a class.\u001b[0m\u001b[1;33m\u001b[0m\u001b[1;33m\u001b[0m\u001b[0m\n",
      "\u001b[1;32mc:\\programdata\\anaconda3\\envs\\tflowgpu\\lib\\site-packages\\keras\\engine\\topology.py\u001b[0m in \u001b[0;36mfrom_config\u001b[1;34m(cls, config)\u001b[0m\n\u001b[0;32m   1269\u001b[0m             \u001b[0mA\u001b[0m \u001b[0mlayer\u001b[0m \u001b[0minstance\u001b[0m\u001b[1;33m.\u001b[0m\u001b[1;33m\u001b[0m\u001b[0m\n\u001b[0;32m   1270\u001b[0m         \"\"\"\n\u001b[1;32m-> 1271\u001b[1;33m         \u001b[1;32mreturn\u001b[0m \u001b[0mcls\u001b[0m\u001b[1;33m(\u001b[0m\u001b[1;33m**\u001b[0m\u001b[0mconfig\u001b[0m\u001b[1;33m)\u001b[0m\u001b[1;33m\u001b[0m\u001b[0m\n\u001b[0m\u001b[0;32m   1272\u001b[0m \u001b[1;33m\u001b[0m\u001b[0m\n\u001b[0;32m   1273\u001b[0m     \u001b[1;32mdef\u001b[0m \u001b[0mcount_params\u001b[0m\u001b[1;33m(\u001b[0m\u001b[0mself\u001b[0m\u001b[1;33m)\u001b[0m\u001b[1;33m:\u001b[0m\u001b[1;33m\u001b[0m\u001b[0m\n",
      "\u001b[1;32mc:\\programdata\\anaconda3\\envs\\tflowgpu\\lib\\site-packages\\keras\\legacy\\interfaces.py\u001b[0m in \u001b[0;36mwrapper\u001b[1;34m(*args, **kwargs)\u001b[0m\n\u001b[0;32m     89\u001b[0m                 warnings.warn('Update your `' + object_name +\n\u001b[0;32m     90\u001b[0m                               '` call to the Keras 2 API: ' + signature, stacklevel=2)\n\u001b[1;32m---> 91\u001b[1;33m             \u001b[1;32mreturn\u001b[0m \u001b[0mfunc\u001b[0m\u001b[1;33m(\u001b[0m\u001b[1;33m*\u001b[0m\u001b[0margs\u001b[0m\u001b[1;33m,\u001b[0m \u001b[1;33m**\u001b[0m\u001b[0mkwargs\u001b[0m\u001b[1;33m)\u001b[0m\u001b[1;33m\u001b[0m\u001b[0m\n\u001b[0m\u001b[0;32m     92\u001b[0m         \u001b[0mwrapper\u001b[0m\u001b[1;33m.\u001b[0m\u001b[0m_original_function\u001b[0m \u001b[1;33m=\u001b[0m \u001b[0mfunc\u001b[0m\u001b[1;33m\u001b[0m\u001b[0m\n\u001b[0;32m     93\u001b[0m         \u001b[1;32mreturn\u001b[0m \u001b[0mwrapper\u001b[0m\u001b[1;33m\u001b[0m\u001b[0m\n",
      "\u001b[1;32mc:\\programdata\\anaconda3\\envs\\tflowgpu\\lib\\site-packages\\keras\\layers\\convolutional.py\u001b[0m in \u001b[0;36m__init__\u001b[1;34m(self, size, data_format, **kwargs)\u001b[0m\n\u001b[0;32m   1804\u001b[0m     \u001b[1;33m@\u001b[0m\u001b[0minterfaces\u001b[0m\u001b[1;33m.\u001b[0m\u001b[0mlegacy_upsampling2d_support\u001b[0m\u001b[1;33m\u001b[0m\u001b[0m\n\u001b[0;32m   1805\u001b[0m     \u001b[1;32mdef\u001b[0m \u001b[0m__init__\u001b[0m\u001b[1;33m(\u001b[0m\u001b[0mself\u001b[0m\u001b[1;33m,\u001b[0m \u001b[0msize\u001b[0m\u001b[1;33m=\u001b[0m\u001b[1;33m(\u001b[0m\u001b[1;36m2\u001b[0m\u001b[1;33m,\u001b[0m \u001b[1;36m2\u001b[0m\u001b[1;33m)\u001b[0m\u001b[1;33m,\u001b[0m \u001b[0mdata_format\u001b[0m\u001b[1;33m=\u001b[0m\u001b[1;32mNone\u001b[0m\u001b[1;33m,\u001b[0m \u001b[1;33m**\u001b[0m\u001b[0mkwargs\u001b[0m\u001b[1;33m)\u001b[0m\u001b[1;33m:\u001b[0m\u001b[1;33m\u001b[0m\u001b[0m\n\u001b[1;32m-> 1806\u001b[1;33m         \u001b[0msuper\u001b[0m\u001b[1;33m(\u001b[0m\u001b[0mUpSampling2D\u001b[0m\u001b[1;33m,\u001b[0m \u001b[0mself\u001b[0m\u001b[1;33m)\u001b[0m\u001b[1;33m.\u001b[0m\u001b[0m__init__\u001b[0m\u001b[1;33m(\u001b[0m\u001b[1;33m**\u001b[0m\u001b[0mkwargs\u001b[0m\u001b[1;33m)\u001b[0m\u001b[1;33m\u001b[0m\u001b[0m\n\u001b[0m\u001b[0;32m   1807\u001b[0m         \u001b[0mself\u001b[0m\u001b[1;33m.\u001b[0m\u001b[0mdata_format\u001b[0m \u001b[1;33m=\u001b[0m \u001b[0mconv_utils\u001b[0m\u001b[1;33m.\u001b[0m\u001b[0mnormalize_data_format\u001b[0m\u001b[1;33m(\u001b[0m\u001b[0mdata_format\u001b[0m\u001b[1;33m)\u001b[0m\u001b[1;33m\u001b[0m\u001b[0m\n\u001b[0;32m   1808\u001b[0m         \u001b[0mself\u001b[0m\u001b[1;33m.\u001b[0m\u001b[0msize\u001b[0m \u001b[1;33m=\u001b[0m \u001b[0mconv_utils\u001b[0m\u001b[1;33m.\u001b[0m\u001b[0mnormalize_tuple\u001b[0m\u001b[1;33m(\u001b[0m\u001b[0msize\u001b[0m\u001b[1;33m,\u001b[0m \u001b[1;36m2\u001b[0m\u001b[1;33m,\u001b[0m \u001b[1;34m'size'\u001b[0m\u001b[1;33m)\u001b[0m\u001b[1;33m\u001b[0m\u001b[0m\n",
      "\u001b[1;32mc:\\programdata\\anaconda3\\envs\\tflowgpu\\lib\\site-packages\\keras\\engine\\topology.py\u001b[0m in \u001b[0;36m__init__\u001b[1;34m(self, **kwargs)\u001b[0m\n\u001b[0;32m    291\u001b[0m         \u001b[1;32mfor\u001b[0m \u001b[0mkwarg\u001b[0m \u001b[1;32min\u001b[0m \u001b[0mkwargs\u001b[0m\u001b[1;33m:\u001b[0m\u001b[1;33m\u001b[0m\u001b[0m\n\u001b[0;32m    292\u001b[0m             \u001b[1;32mif\u001b[0m \u001b[0mkwarg\u001b[0m \u001b[1;32mnot\u001b[0m \u001b[1;32min\u001b[0m \u001b[0mallowed_kwargs\u001b[0m\u001b[1;33m:\u001b[0m\u001b[1;33m\u001b[0m\u001b[0m\n\u001b[1;32m--> 293\u001b[1;33m                 \u001b[1;32mraise\u001b[0m \u001b[0mTypeError\u001b[0m\u001b[1;33m(\u001b[0m\u001b[1;34m'Keyword argument not understood:'\u001b[0m\u001b[1;33m,\u001b[0m \u001b[0mkwarg\u001b[0m\u001b[1;33m)\u001b[0m\u001b[1;33m\u001b[0m\u001b[0m\n\u001b[0m\u001b[0;32m    294\u001b[0m         \u001b[0mname\u001b[0m \u001b[1;33m=\u001b[0m \u001b[0mkwargs\u001b[0m\u001b[1;33m.\u001b[0m\u001b[0mget\u001b[0m\u001b[1;33m(\u001b[0m\u001b[1;34m'name'\u001b[0m\u001b[1;33m)\u001b[0m\u001b[1;33m\u001b[0m\u001b[0m\n\u001b[0;32m    295\u001b[0m         \u001b[1;32mif\u001b[0m \u001b[1;32mnot\u001b[0m \u001b[0mname\u001b[0m\u001b[1;33m:\u001b[0m\u001b[1;33m\u001b[0m\u001b[0m\n",
      "\u001b[1;31mTypeError\u001b[0m: ('Keyword argument not understood:', 'interpolation')"
     ]
    }
   ],
   "source": [
    "model = load_model('unetLr03.h5', custom_objects={'dice_coef': dice_coef,'dice_coef_loss':dice_coef_loss})"
   ]
  },
  {
   "cell_type": "code",
   "execution_count": null,
   "metadata": {},
   "outputs": [],
   "source": [
    "preds_test = model.predict(X_train)"
   ]
  },
  {
   "cell_type": "code",
   "execution_count": 11,
   "metadata": {},
   "outputs": [
    {
     "ename": "NameError",
     "evalue": "name 'preds_test' is not defined",
     "output_type": "error",
     "traceback": [
      "\u001b[1;31m---------------------------------------------------------------------------\u001b[0m",
      "\u001b[1;31mNameError\u001b[0m                                 Traceback (most recent call last)",
      "\u001b[1;32m<ipython-input-11-254a80d919a7>\u001b[0m in \u001b[0;36m<module>\u001b[1;34m()\u001b[0m\n\u001b[1;32m----> 1\u001b[1;33m \u001b[0mpreds_test\u001b[0m\u001b[1;33m.\u001b[0m\u001b[0mshape\u001b[0m\u001b[1;33m\u001b[0m\u001b[0m\n\u001b[0m",
      "\u001b[1;31mNameError\u001b[0m: name 'preds_test' is not defined"
     ]
    }
   ],
   "source": [
    "preds_test.shape"
   ]
  },
  {
   "cell_type": "code",
   "execution_count": null,
   "metadata": {},
   "outputs": [],
   "source": [
    "preds_test_t = (preds_test > 0.5).astype(np.uint8)"
   ]
  },
  {
   "cell_type": "code",
   "execution_count": null,
   "metadata": {},
   "outputs": [],
   "source": [
    "mappedResult = []\n",
    "for i in range(0,X_train.shape[0]):\n",
    "    curGT = Y_train[i]\n",
    "    curPD = preds_test_t[i]\n",
    "    values = curGT.copy()\n",
    "    for x in range(0,IMG_WIDTH):\n",
    "        for y in range(0,IMG_WIDTH):\n",
    "            if curGT[x,y]==0 and curPD[x,y]==0:\n",
    "                #print(\"here\")\n",
    "                values[x,y] = 0\n",
    "            elif curGT[x,y]==0 and curPD[x,y]==1:\n",
    "                #print(\"here1\")\n",
    "                values[x,y] = 1\n",
    "            elif curGT[x,y]==1 and curPD[x,y]==0:\n",
    "                #print(\"here2\")\n",
    "                values[x,y] = 2\n",
    "            elif curGT[x,y]==1 and curPD[x,y]==1:\n",
    "                values[x,y] = 3\n",
    "    mappedResult.append(values)\n",
    "    \n",
    "mappedResult = np.asarray(mappedResult)"
   ]
  },
  {
   "cell_type": "markdown",
   "metadata": {},
   "source": [
    "# TestMap"
   ]
  },
  {
   "cell_type": "code",
   "execution_count": 4,
   "metadata": {},
   "outputs": [
    {
     "ename": "FileNotFoundError",
     "evalue": "[Errno 2] No such file or directory: 'TestmappedResult'",
     "output_type": "error",
     "traceback": [
      "\u001b[1;31m---------------------------------------------------------------------------\u001b[0m",
      "\u001b[1;31mFileNotFoundError\u001b[0m                         Traceback (most recent call last)",
      "\u001b[1;32m<ipython-input-4-b93cd07caba0>\u001b[0m in \u001b[0;36m<module>\u001b[1;34m()\u001b[0m\n\u001b[0;32m      1\u001b[0m \u001b[0mY_test\u001b[0m \u001b[1;33m=\u001b[0m \u001b[0mnp\u001b[0m\u001b[1;33m.\u001b[0m\u001b[0mload\u001b[0m\u001b[1;33m(\u001b[0m\u001b[1;34m\"Y_testMap.npy\"\u001b[0m\u001b[1;33m)\u001b[0m\u001b[1;33m\u001b[0m\u001b[0m\n\u001b[1;32m----> 2\u001b[1;33m \u001b[0mmappedResult\u001b[0m \u001b[1;33m=\u001b[0m \u001b[0mnp\u001b[0m\u001b[1;33m.\u001b[0m\u001b[0mload\u001b[0m\u001b[1;33m(\u001b[0m\u001b[1;34m\"TestmappedResult\"\u001b[0m\u001b[1;33m)\u001b[0m\u001b[1;33m\u001b[0m\u001b[0m\n\u001b[0m",
      "\u001b[1;32mc:\\programdata\\anaconda3\\envs\\tflowgpu\\lib\\site-packages\\numpy\\lib\\npyio.py\u001b[0m in \u001b[0;36mload\u001b[1;34m(file, mmap_mode, allow_pickle, fix_imports, encoding)\u001b[0m\n\u001b[0;32m    370\u001b[0m     \u001b[0mown_fid\u001b[0m \u001b[1;33m=\u001b[0m \u001b[1;32mFalse\u001b[0m\u001b[1;33m\u001b[0m\u001b[0m\n\u001b[0;32m    371\u001b[0m     \u001b[1;32mif\u001b[0m \u001b[0misinstance\u001b[0m\u001b[1;33m(\u001b[0m\u001b[0mfile\u001b[0m\u001b[1;33m,\u001b[0m \u001b[0mbasestring\u001b[0m\u001b[1;33m)\u001b[0m\u001b[1;33m:\u001b[0m\u001b[1;33m\u001b[0m\u001b[0m\n\u001b[1;32m--> 372\u001b[1;33m         \u001b[0mfid\u001b[0m \u001b[1;33m=\u001b[0m \u001b[0mopen\u001b[0m\u001b[1;33m(\u001b[0m\u001b[0mfile\u001b[0m\u001b[1;33m,\u001b[0m \u001b[1;34m\"rb\"\u001b[0m\u001b[1;33m)\u001b[0m\u001b[1;33m\u001b[0m\u001b[0m\n\u001b[0m\u001b[0;32m    373\u001b[0m         \u001b[0mown_fid\u001b[0m \u001b[1;33m=\u001b[0m \u001b[1;32mTrue\u001b[0m\u001b[1;33m\u001b[0m\u001b[0m\n\u001b[0;32m    374\u001b[0m     \u001b[1;32melif\u001b[0m \u001b[0mis_pathlib_path\u001b[0m\u001b[1;33m(\u001b[0m\u001b[0mfile\u001b[0m\u001b[1;33m)\u001b[0m\u001b[1;33m:\u001b[0m\u001b[1;33m\u001b[0m\u001b[0m\n",
      "\u001b[1;31mFileNotFoundError\u001b[0m: [Errno 2] No such file or directory: 'TestmappedResult'"
     ]
    }
   ],
   "source": [
    "Y_test = np.load(\"Y_testMap.npy\")\n"
   ]
  },
  {
   "cell_type": "code",
   "execution_count": 5,
   "metadata": {},
   "outputs": [],
   "source": [
    "mappedResult = np.load(\"TestmappedResult.npy\")"
   ]
  },
  {
   "cell_type": "code",
   "execution_count": 14,
   "metadata": {},
   "outputs": [],
   "source": [
    "Y_test = Y_test.astype('uint8')\n",
    "mappedResult =mappedResult.astype('uint8')"
   ]
  },
  {
   "cell_type": "code",
   "execution_count": 19,
   "metadata": {},
   "outputs": [
    {
     "name": "stdout",
     "output_type": "stream",
     "text": [
      "757\n"
     ]
    },
    {
     "data": {
      "image/png": "[encoded data removed]",
      "text/plain": [
       "<Figure size 432x288 with 2 Axes>"
      ]
     },
     "metadata": {},
     "output_type": "display_data"
    },
    {
     "name": "stdout",
     "output_type": "stream",
     "text": [
      "758\n"
     ]
    },
    {
     "data": {
      "image/png": "[encoded data removed]",
      "text/plain": [
       "<Figure size 432x288 with 2 Axes>"
      ]
     },
     "metadata": {},
     "output_type": "display_data"
    },
    {
     "name": "stdout",
     "output_type": "stream",
     "text": [
      "820\n"
     ]
    },
    {
     "data": {
      "image/png": "[encoded data removed]",
      "text/plain": [
       "<Figure size 432x288 with 2 Axes>"
      ]
     },
     "metadata": {},
     "output_type": "display_data"
    },
    {
     "name": "stdout",
     "output_type": "stream",
     "text": [
      "882\n"
     ]
    },
    {
     "data": {
      "image/png": "[encoded data removed]",
      "text/plain": [
       "<Figure size 432x288 with 2 Axes>"
      ]
     },
     "metadata": {},
     "output_type": "display_data"
    },
    {
     "name": "stdout",
     "output_type": "stream",
     "text": [
      "883\n"
     ]
    },
    {
     "data": {
      "image/png": "[encoded data removed]",
      "text/plain": [
       "<Figure size 432x288 with 2 Axes>"
      ]
     },
     "metadata": {},
     "output_type": "display_data"
    },
    {
     "name": "stdout",
     "output_type": "stream",
     "text": [
      "944\n"
     ]
    },
    {
     "data": {
      "image/png": "[encoded data removed]",
      "text/plain": [
       "<Figure size 432x288 with 2 Axes>"
      ]
     },
     "metadata": {},
     "output_type": "display_data"
    },
    {
     "name": "stdout",
     "output_type": "stream",
     "text": [
      "945\n"
     ]
    },
    {
     "data": {
      "image/png": "[encoded data removed]",
      "text/plain": [
       "<Figure size 432x288 with 2 Axes>"
      ]
     },
     "metadata": {},
     "output_type": "display_data"
    }
   ],
   "source": [
    "for ix in range(0,1000):\n",
    "#ix = 75\n",
    "#imshow(np.squeeze(X_train[ix]))\n",
    "#plt.show()\n",
    "    if(Y_test[ix].sum()>500):\n",
    "        print(ix)\n",
    "        imshow(np.squeeze(Y_test[ix]),cmap=plt.cm.Spectral)\n",
    "        plt.show()\n",
    "#imshow(np.squeeze(preds_test_t[ix]),cmap=plt.cm.Spectral)\n",
    "#plt.show()\n",
    "    #imshow(np.squeeze(mappedResult[ix]),cmap=plt.cm.Spectral)\n",
    "    #plt.show()"
   ]
  },
  {
   "cell_type": "code",
   "execution_count": 11,
   "metadata": {},
   "outputs": [
    {
     "data": {
      "text/plain": [
       "2866413.0"
      ]
     },
     "execution_count": 11,
     "metadata": {},
     "output_type": "execute_result"
    }
   ],
   "source": [
    "mappedResult.sum()"
   ]
  },
  {
   "cell_type": "code",
   "execution_count": 25,
   "metadata": {},
   "outputs": [],
   "source": [
    "X_testRGB = np.load(\"X_testRGB.npy\")"
   ]
  },
  {
   "cell_type": "code",
   "execution_count": 46,
   "metadata": {},
   "outputs": [
    {
     "data": {
      "image/png": "[encoded data removed]",
      "text/plain": [
       "<Figure size 432x288 with 1 Axes>"
      ]
     },
     "metadata": {},
     "output_type": "display_data"
    },
    {
     "data": {
      "image/png": "[encoded data removed]",
      "text/plain": [
       "<Figure size 432x288 with 1 Axes>"
      ]
     },
     "metadata": {},
     "output_type": "display_data"
    },
    {
     "data": {
      "image/png": "[encoded data removed]",
      "text/plain": [
       "<Figure size 432x288 with 1 Axes>"
      ]
     },
     "metadata": {},
     "output_type": "display_data"
    }
   ],
   "source": [
    "import random\n",
    "ix=random.randint(300,900)\n",
    "imshow(X_testRGB[ix])\n",
    "plt.show()\n",
    "imshow(np.squeeze(Y_test[ix]),cmap=plt.cm.Spectral)\n",
    "plt.show()\n",
    "imshow(np.squeeze(mappedResult[ix]),cmap=plt.cm.Spectral)\n",
    "plt.show()"
   ]
  },
  {
   "cell_type": "code",
   "execution_count": null,
   "metadata": {},
   "outputs": [],
   "source": []
  },
  {
   "cell_type": "code",
   "execution_count": null,
   "metadata": {},
   "outputs": [],
   "source": []
  }
 ],
 "metadata": {
  "kernelspec": {
   "display_name": "Python 3",
   "language": "python",
   "name": "python3"
  },
  "language_info": {
   "codemirror_mode": {
    "name": "ipython",
    "version": 3
   },
   "file_extension": ".py",
   "mimetype": "text/x-python",
   "name": "python",
   "nbconvert_exporter": "python",
   "pygments_lexer": "ipython3",
   "version": "3.7.9"
  }
 },
 "nbformat": 4,
 "nbformat_minor": 2
}
